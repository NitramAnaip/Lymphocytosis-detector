{
  "nbformat": 4,
  "nbformat_minor": 0,
  "metadata": {
    "colab": {
      "name": "TEST_Lymphocytosis.ipynb",
      "provenance": [],
      "collapsed_sections": []
    },
    "kernelspec": {
      "name": "python3",
      "display_name": "Python 3"
    },
    "accelerator": "GPU",
    "widgets": {
      "application/vnd.jupyter.widget-state+json": {
        "01c987a757f045658ebf8aaa8e49e23f": {
          "model_module": "@jupyter-widgets/controls",
          "model_name": "HBoxModel",
          "state": {
            "_view_name": "HBoxView",
            "_dom_classes": [],
            "_model_name": "HBoxModel",
            "_view_module": "@jupyter-widgets/controls",
            "_model_module_version": "1.5.0",
            "_view_count": null,
            "_view_module_version": "1.5.0",
            "box_style": "",
            "layout": "IPY_MODEL_307727d70bc64a4db151052c1382bceb",
            "_model_module": "@jupyter-widgets/controls",
            "children": [
              "IPY_MODEL_beb02899825842b5b2aeb168eaea8e8c",
              "IPY_MODEL_313e3eec5f0b45f38d88f683c675b9ee"
            ]
          }
        },
        "307727d70bc64a4db151052c1382bceb": {
          "model_module": "@jupyter-widgets/base",
          "model_name": "LayoutModel",
          "state": {
            "_view_name": "LayoutView",
            "grid_template_rows": null,
            "right": null,
            "justify_content": null,
            "_view_module": "@jupyter-widgets/base",
            "overflow": null,
            "_model_module_version": "1.2.0",
            "_view_count": null,
            "flex_flow": null,
            "width": null,
            "min_width": null,
            "border": null,
            "align_items": null,
            "bottom": null,
            "_model_module": "@jupyter-widgets/base",
            "top": null,
            "grid_column": null,
            "overflow_y": null,
            "overflow_x": null,
            "grid_auto_flow": null,
            "grid_area": null,
            "grid_template_columns": null,
            "flex": null,
            "_model_name": "LayoutModel",
            "justify_items": null,
            "grid_row": null,
            "max_height": null,
            "align_content": null,
            "visibility": null,
            "align_self": null,
            "height": null,
            "min_height": null,
            "padding": null,
            "grid_auto_rows": null,
            "grid_gap": null,
            "max_width": null,
            "order": null,
            "_view_module_version": "1.2.0",
            "grid_template_areas": null,
            "object_position": null,
            "object_fit": null,
            "grid_auto_columns": null,
            "margin": null,
            "display": null,
            "left": null
          }
        },
        "beb02899825842b5b2aeb168eaea8e8c": {
          "model_module": "@jupyter-widgets/controls",
          "model_name": "FloatProgressModel",
          "state": {
            "_view_name": "ProgressView",
            "style": "IPY_MODEL_e1b11710e6c94f96b01913c38046008b",
            "_dom_classes": [],
            "description": "100%",
            "_model_name": "FloatProgressModel",
            "bar_style": "success",
            "max": 387,
            "_view_module": "@jupyter-widgets/controls",
            "_model_module_version": "1.5.0",
            "value": 387,
            "_view_count": null,
            "_view_module_version": "1.5.0",
            "orientation": "horizontal",
            "min": 0,
            "description_tooltip": null,
            "_model_module": "@jupyter-widgets/controls",
            "layout": "IPY_MODEL_9d637070df6d4a3baa2593abb73ab867"
          }
        },
        "313e3eec5f0b45f38d88f683c675b9ee": {
          "model_module": "@jupyter-widgets/controls",
          "model_name": "HTMLModel",
          "state": {
            "_view_name": "HTMLView",
            "style": "IPY_MODEL_4f625d5f8c67496790ea17ccf15ab2ad",
            "_dom_classes": [],
            "description": "",
            "_model_name": "HTMLModel",
            "placeholder": "​",
            "_view_module": "@jupyter-widgets/controls",
            "_model_module_version": "1.5.0",
            "value": " 387/387 [00:49&lt;00:00,  7.80it/s, loss=tensor(0.0215, device=&#x27;cuda:0&#x27;, grad_fn=&lt;DivBackward0&gt;)]",
            "_view_count": null,
            "_view_module_version": "1.5.0",
            "description_tooltip": null,
            "_model_module": "@jupyter-widgets/controls",
            "layout": "IPY_MODEL_f9e58f92f1504551a41f62a081144cfd"
          }
        },
        "e1b11710e6c94f96b01913c38046008b": {
          "model_module": "@jupyter-widgets/controls",
          "model_name": "ProgressStyleModel",
          "state": {
            "_view_name": "StyleView",
            "_model_name": "ProgressStyleModel",
            "description_width": "initial",
            "_view_module": "@jupyter-widgets/base",
            "_model_module_version": "1.5.0",
            "_view_count": null,
            "_view_module_version": "1.2.0",
            "bar_color": null,
            "_model_module": "@jupyter-widgets/controls"
          }
        },
        "9d637070df6d4a3baa2593abb73ab867": {
          "model_module": "@jupyter-widgets/base",
          "model_name": "LayoutModel",
          "state": {
            "_view_name": "LayoutView",
            "grid_template_rows": null,
            "right": null,
            "justify_content": null,
            "_view_module": "@jupyter-widgets/base",
            "overflow": null,
            "_model_module_version": "1.2.0",
            "_view_count": null,
            "flex_flow": null,
            "width": null,
            "min_width": null,
            "border": null,
            "align_items": null,
            "bottom": null,
            "_model_module": "@jupyter-widgets/base",
            "top": null,
            "grid_column": null,
            "overflow_y": null,
            "overflow_x": null,
            "grid_auto_flow": null,
            "grid_area": null,
            "grid_template_columns": null,
            "flex": null,
            "_model_name": "LayoutModel",
            "justify_items": null,
            "grid_row": null,
            "max_height": null,
            "align_content": null,
            "visibility": null,
            "align_self": null,
            "height": null,
            "min_height": null,
            "padding": null,
            "grid_auto_rows": null,
            "grid_gap": null,
            "max_width": null,
            "order": null,
            "_view_module_version": "1.2.0",
            "grid_template_areas": null,
            "object_position": null,
            "object_fit": null,
            "grid_auto_columns": null,
            "margin": null,
            "display": null,
            "left": null
          }
        },
        "4f625d5f8c67496790ea17ccf15ab2ad": {
          "model_module": "@jupyter-widgets/controls",
          "model_name": "DescriptionStyleModel",
          "state": {
            "_view_name": "StyleView",
            "_model_name": "DescriptionStyleModel",
            "description_width": "",
            "_view_module": "@jupyter-widgets/base",
            "_model_module_version": "1.5.0",
            "_view_count": null,
            "_view_module_version": "1.2.0",
            "_model_module": "@jupyter-widgets/controls"
          }
        },
        "f9e58f92f1504551a41f62a081144cfd": {
          "model_module": "@jupyter-widgets/base",
          "model_name": "LayoutModel",
          "state": {
            "_view_name": "LayoutView",
            "grid_template_rows": null,
            "right": null,
            "justify_content": null,
            "_view_module": "@jupyter-widgets/base",
            "overflow": null,
            "_model_module_version": "1.2.0",
            "_view_count": null,
            "flex_flow": null,
            "width": null,
            "min_width": null,
            "border": null,
            "align_items": null,
            "bottom": null,
            "_model_module": "@jupyter-widgets/base",
            "top": null,
            "grid_column": null,
            "overflow_y": null,
            "overflow_x": null,
            "grid_auto_flow": null,
            "grid_area": null,
            "grid_template_columns": null,
            "flex": null,
            "_model_name": "LayoutModel",
            "justify_items": null,
            "grid_row": null,
            "max_height": null,
            "align_content": null,
            "visibility": null,
            "align_self": null,
            "height": null,
            "min_height": null,
            "padding": null,
            "grid_auto_rows": null,
            "grid_gap": null,
            "max_width": null,
            "order": null,
            "_view_module_version": "1.2.0",
            "grid_template_areas": null,
            "object_position": null,
            "object_fit": null,
            "grid_auto_columns": null,
            "margin": null,
            "display": null,
            "left": null
          }
        },
        "67610264aa084f98b2f21e4c3efd6d14": {
          "model_module": "@jupyter-widgets/controls",
          "model_name": "HBoxModel",
          "state": {
            "_view_name": "HBoxView",
            "_dom_classes": [],
            "_model_name": "HBoxModel",
            "_view_module": "@jupyter-widgets/controls",
            "_model_module_version": "1.5.0",
            "_view_count": null,
            "_view_module_version": "1.5.0",
            "box_style": "",
            "layout": "IPY_MODEL_513bbecf7c1d461fad35d59b94c1287f",
            "_model_module": "@jupyter-widgets/controls",
            "children": [
              "IPY_MODEL_235ef33b800c430198619c5d4e2468b6",
              "IPY_MODEL_25ebc8d86dcb4220952775b28be28823"
            ]
          }
        },
        "513bbecf7c1d461fad35d59b94c1287f": {
          "model_module": "@jupyter-widgets/base",
          "model_name": "LayoutModel",
          "state": {
            "_view_name": "LayoutView",
            "grid_template_rows": null,
            "right": null,
            "justify_content": null,
            "_view_module": "@jupyter-widgets/base",
            "overflow": null,
            "_model_module_version": "1.2.0",
            "_view_count": null,
            "flex_flow": null,
            "width": null,
            "min_width": null,
            "border": null,
            "align_items": null,
            "bottom": null,
            "_model_module": "@jupyter-widgets/base",
            "top": null,
            "grid_column": null,
            "overflow_y": null,
            "overflow_x": null,
            "grid_auto_flow": null,
            "grid_area": null,
            "grid_template_columns": null,
            "flex": null,
            "_model_name": "LayoutModel",
            "justify_items": null,
            "grid_row": null,
            "max_height": null,
            "align_content": null,
            "visibility": null,
            "align_self": null,
            "height": null,
            "min_height": null,
            "padding": null,
            "grid_auto_rows": null,
            "grid_gap": null,
            "max_width": null,
            "order": null,
            "_view_module_version": "1.2.0",
            "grid_template_areas": null,
            "object_position": null,
            "object_fit": null,
            "grid_auto_columns": null,
            "margin": null,
            "display": null,
            "left": null
          }
        },
        "235ef33b800c430198619c5d4e2468b6": {
          "model_module": "@jupyter-widgets/controls",
          "model_name": "FloatProgressModel",
          "state": {
            "_view_name": "ProgressView",
            "style": "IPY_MODEL_075c3dfac67d4b29b29658bd817e933b",
            "_dom_classes": [],
            "description": "100%",
            "_model_name": "FloatProgressModel",
            "bar_style": "success",
            "max": 387,
            "_view_module": "@jupyter-widgets/controls",
            "_model_module_version": "1.5.0",
            "value": 387,
            "_view_count": null,
            "_view_module_version": "1.5.0",
            "orientation": "horizontal",
            "min": 0,
            "description_tooltip": null,
            "_model_module": "@jupyter-widgets/controls",
            "layout": "IPY_MODEL_5f27dda45a9049f8be2b9e3361266ef6"
          }
        },
        "25ebc8d86dcb4220952775b28be28823": {
          "model_module": "@jupyter-widgets/controls",
          "model_name": "HTMLModel",
          "state": {
            "_view_name": "HTMLView",
            "style": "IPY_MODEL_b9ea27f689cb4abfaa04186f1f3ce098",
            "_dom_classes": [],
            "description": "",
            "_model_name": "HTMLModel",
            "placeholder": "​",
            "_view_module": "@jupyter-widgets/controls",
            "_model_module_version": "1.5.0",
            "value": " 387/387 [03:19&lt;00:00,  1.94it/s, loss=tensor(0.0203, device=&#x27;cuda:0&#x27;, grad_fn=&lt;DivBackward0&gt;)]",
            "_view_count": null,
            "_view_module_version": "1.5.0",
            "description_tooltip": null,
            "_model_module": "@jupyter-widgets/controls",
            "layout": "IPY_MODEL_07d11d0e158b42ca94212c50c4b7c046"
          }
        },
        "075c3dfac67d4b29b29658bd817e933b": {
          "model_module": "@jupyter-widgets/controls",
          "model_name": "ProgressStyleModel",
          "state": {
            "_view_name": "StyleView",
            "_model_name": "ProgressStyleModel",
            "description_width": "initial",
            "_view_module": "@jupyter-widgets/base",
            "_model_module_version": "1.5.0",
            "_view_count": null,
            "_view_module_version": "1.2.0",
            "bar_color": null,
            "_model_module": "@jupyter-widgets/controls"
          }
        },
        "5f27dda45a9049f8be2b9e3361266ef6": {
          "model_module": "@jupyter-widgets/base",
          "model_name": "LayoutModel",
          "state": {
            "_view_name": "LayoutView",
            "grid_template_rows": null,
            "right": null,
            "justify_content": null,
            "_view_module": "@jupyter-widgets/base",
            "overflow": null,
            "_model_module_version": "1.2.0",
            "_view_count": null,
            "flex_flow": null,
            "width": null,
            "min_width": null,
            "border": null,
            "align_items": null,
            "bottom": null,
            "_model_module": "@jupyter-widgets/base",
            "top": null,
            "grid_column": null,
            "overflow_y": null,
            "overflow_x": null,
            "grid_auto_flow": null,
            "grid_area": null,
            "grid_template_columns": null,
            "flex": null,
            "_model_name": "LayoutModel",
            "justify_items": null,
            "grid_row": null,
            "max_height": null,
            "align_content": null,
            "visibility": null,
            "align_self": null,
            "height": null,
            "min_height": null,
            "padding": null,
            "grid_auto_rows": null,
            "grid_gap": null,
            "max_width": null,
            "order": null,
            "_view_module_version": "1.2.0",
            "grid_template_areas": null,
            "object_position": null,
            "object_fit": null,
            "grid_auto_columns": null,
            "margin": null,
            "display": null,
            "left": null
          }
        },
        "b9ea27f689cb4abfaa04186f1f3ce098": {
          "model_module": "@jupyter-widgets/controls",
          "model_name": "DescriptionStyleModel",
          "state": {
            "_view_name": "StyleView",
            "_model_name": "DescriptionStyleModel",
            "description_width": "",
            "_view_module": "@jupyter-widgets/base",
            "_model_module_version": "1.5.0",
            "_view_count": null,
            "_view_module_version": "1.2.0",
            "_model_module": "@jupyter-widgets/controls"
          }
        },
        "07d11d0e158b42ca94212c50c4b7c046": {
          "model_module": "@jupyter-widgets/base",
          "model_name": "LayoutModel",
          "state": {
            "_view_name": "LayoutView",
            "grid_template_rows": null,
            "right": null,
            "justify_content": null,
            "_view_module": "@jupyter-widgets/base",
            "overflow": null,
            "_model_module_version": "1.2.0",
            "_view_count": null,
            "flex_flow": null,
            "width": null,
            "min_width": null,
            "border": null,
            "align_items": null,
            "bottom": null,
            "_model_module": "@jupyter-widgets/base",
            "top": null,
            "grid_column": null,
            "overflow_y": null,
            "overflow_x": null,
            "grid_auto_flow": null,
            "grid_area": null,
            "grid_template_columns": null,
            "flex": null,
            "_model_name": "LayoutModel",
            "justify_items": null,
            "grid_row": null,
            "max_height": null,
            "align_content": null,
            "visibility": null,
            "align_self": null,
            "height": null,
            "min_height": null,
            "padding": null,
            "grid_auto_rows": null,
            "grid_gap": null,
            "max_width": null,
            "order": null,
            "_view_module_version": "1.2.0",
            "grid_template_areas": null,
            "object_position": null,
            "object_fit": null,
            "grid_auto_columns": null,
            "margin": null,
            "display": null,
            "left": null
          }
        },
        "c897a0c5aba34db0a61479d94a2b9696": {
          "model_module": "@jupyter-widgets/controls",
          "model_name": "HBoxModel",
          "state": {
            "_view_name": "HBoxView",
            "_dom_classes": [],
            "_model_name": "HBoxModel",
            "_view_module": "@jupyter-widgets/controls",
            "_model_module_version": "1.5.0",
            "_view_count": null,
            "_view_module_version": "1.5.0",
            "box_style": "",
            "layout": "IPY_MODEL_f64bc2e3cb374855b4a968cf2850c0c8",
            "_model_module": "@jupyter-widgets/controls",
            "children": [
              "IPY_MODEL_3c9f44dff6fa454bbb805777cf0ffd0d",
              "IPY_MODEL_81934d578c8d47bd84b826115a876776"
            ]
          }
        },
        "f64bc2e3cb374855b4a968cf2850c0c8": {
          "model_module": "@jupyter-widgets/base",
          "model_name": "LayoutModel",
          "state": {
            "_view_name": "LayoutView",
            "grid_template_rows": null,
            "right": null,
            "justify_content": null,
            "_view_module": "@jupyter-widgets/base",
            "overflow": null,
            "_model_module_version": "1.2.0",
            "_view_count": null,
            "flex_flow": null,
            "width": null,
            "min_width": null,
            "border": null,
            "align_items": null,
            "bottom": null,
            "_model_module": "@jupyter-widgets/base",
            "top": null,
            "grid_column": null,
            "overflow_y": null,
            "overflow_x": null,
            "grid_auto_flow": null,
            "grid_area": null,
            "grid_template_columns": null,
            "flex": null,
            "_model_name": "LayoutModel",
            "justify_items": null,
            "grid_row": null,
            "max_height": null,
            "align_content": null,
            "visibility": null,
            "align_self": null,
            "height": null,
            "min_height": null,
            "padding": null,
            "grid_auto_rows": null,
            "grid_gap": null,
            "max_width": null,
            "order": null,
            "_view_module_version": "1.2.0",
            "grid_template_areas": null,
            "object_position": null,
            "object_fit": null,
            "grid_auto_columns": null,
            "margin": null,
            "display": null,
            "left": null
          }
        },
        "3c9f44dff6fa454bbb805777cf0ffd0d": {
          "model_module": "@jupyter-widgets/controls",
          "model_name": "FloatProgressModel",
          "state": {
            "_view_name": "ProgressView",
            "style": "IPY_MODEL_784dc4a8dd304c0d8cf71dee891255f0",
            "_dom_classes": [],
            "description": "100%",
            "_model_name": "FloatProgressModel",
            "bar_style": "success",
            "max": 387,
            "_view_module": "@jupyter-widgets/controls",
            "_model_module_version": "1.5.0",
            "value": 387,
            "_view_count": null,
            "_view_module_version": "1.5.0",
            "orientation": "horizontal",
            "min": 0,
            "description_tooltip": null,
            "_model_module": "@jupyter-widgets/controls",
            "layout": "IPY_MODEL_26441e1d4b0e43988fd830b448cf938f"
          }
        },
        "81934d578c8d47bd84b826115a876776": {
          "model_module": "@jupyter-widgets/controls",
          "model_name": "HTMLModel",
          "state": {
            "_view_name": "HTMLView",
            "style": "IPY_MODEL_474cb92f88a34798a99f13a864cd882e",
            "_dom_classes": [],
            "description": "",
            "_model_name": "HTMLModel",
            "placeholder": "​",
            "_view_module": "@jupyter-widgets/controls",
            "_model_module_version": "1.5.0",
            "value": " 387/387 [02:30&lt;00:00,  2.57it/s, loss=tensor(0.0194, device=&#x27;cuda:0&#x27;, grad_fn=&lt;DivBackward0&gt;)]",
            "_view_count": null,
            "_view_module_version": "1.5.0",
            "description_tooltip": null,
            "_model_module": "@jupyter-widgets/controls",
            "layout": "IPY_MODEL_ce787782758d4bd8bead6dacd97285cd"
          }
        },
        "784dc4a8dd304c0d8cf71dee891255f0": {
          "model_module": "@jupyter-widgets/controls",
          "model_name": "ProgressStyleModel",
          "state": {
            "_view_name": "StyleView",
            "_model_name": "ProgressStyleModel",
            "description_width": "initial",
            "_view_module": "@jupyter-widgets/base",
            "_model_module_version": "1.5.0",
            "_view_count": null,
            "_view_module_version": "1.2.0",
            "bar_color": null,
            "_model_module": "@jupyter-widgets/controls"
          }
        },
        "26441e1d4b0e43988fd830b448cf938f": {
          "model_module": "@jupyter-widgets/base",
          "model_name": "LayoutModel",
          "state": {
            "_view_name": "LayoutView",
            "grid_template_rows": null,
            "right": null,
            "justify_content": null,
            "_view_module": "@jupyter-widgets/base",
            "overflow": null,
            "_model_module_version": "1.2.0",
            "_view_count": null,
            "flex_flow": null,
            "width": null,
            "min_width": null,
            "border": null,
            "align_items": null,
            "bottom": null,
            "_model_module": "@jupyter-widgets/base",
            "top": null,
            "grid_column": null,
            "overflow_y": null,
            "overflow_x": null,
            "grid_auto_flow": null,
            "grid_area": null,
            "grid_template_columns": null,
            "flex": null,
            "_model_name": "LayoutModel",
            "justify_items": null,
            "grid_row": null,
            "max_height": null,
            "align_content": null,
            "visibility": null,
            "align_self": null,
            "height": null,
            "min_height": null,
            "padding": null,
            "grid_auto_rows": null,
            "grid_gap": null,
            "max_width": null,
            "order": null,
            "_view_module_version": "1.2.0",
            "grid_template_areas": null,
            "object_position": null,
            "object_fit": null,
            "grid_auto_columns": null,
            "margin": null,
            "display": null,
            "left": null
          }
        },
        "474cb92f88a34798a99f13a864cd882e": {
          "model_module": "@jupyter-widgets/controls",
          "model_name": "DescriptionStyleModel",
          "state": {
            "_view_name": "StyleView",
            "_model_name": "DescriptionStyleModel",
            "description_width": "",
            "_view_module": "@jupyter-widgets/base",
            "_model_module_version": "1.5.0",
            "_view_count": null,
            "_view_module_version": "1.2.0",
            "_model_module": "@jupyter-widgets/controls"
          }
        },
        "ce787782758d4bd8bead6dacd97285cd": {
          "model_module": "@jupyter-widgets/base",
          "model_name": "LayoutModel",
          "state": {
            "_view_name": "LayoutView",
            "grid_template_rows": null,
            "right": null,
            "justify_content": null,
            "_view_module": "@jupyter-widgets/base",
            "overflow": null,
            "_model_module_version": "1.2.0",
            "_view_count": null,
            "flex_flow": null,
            "width": null,
            "min_width": null,
            "border": null,
            "align_items": null,
            "bottom": null,
            "_model_module": "@jupyter-widgets/base",
            "top": null,
            "grid_column": null,
            "overflow_y": null,
            "overflow_x": null,
            "grid_auto_flow": null,
            "grid_area": null,
            "grid_template_columns": null,
            "flex": null,
            "_model_name": "LayoutModel",
            "justify_items": null,
            "grid_row": null,
            "max_height": null,
            "align_content": null,
            "visibility": null,
            "align_self": null,
            "height": null,
            "min_height": null,
            "padding": null,
            "grid_auto_rows": null,
            "grid_gap": null,
            "max_width": null,
            "order": null,
            "_view_module_version": "1.2.0",
            "grid_template_areas": null,
            "object_position": null,
            "object_fit": null,
            "grid_auto_columns": null,
            "margin": null,
            "display": null,
            "left": null
          }
        },
        "5f3dfb8bd51d48cc84d61a791457bf7e": {
          "model_module": "@jupyter-widgets/controls",
          "model_name": "HBoxModel",
          "state": {
            "_view_name": "HBoxView",
            "_dom_classes": [],
            "_model_name": "HBoxModel",
            "_view_module": "@jupyter-widgets/controls",
            "_model_module_version": "1.5.0",
            "_view_count": null,
            "_view_module_version": "1.5.0",
            "box_style": "",
            "layout": "IPY_MODEL_6fb8b05ae2b342158c2e63bdefec4fa8",
            "_model_module": "@jupyter-widgets/controls",
            "children": [
              "IPY_MODEL_e91dfe23e1f74c27905d8fc37a401c5c",
              "IPY_MODEL_f8de75a19d254807b2fdc85ae8056169"
            ]
          }
        },
        "6fb8b05ae2b342158c2e63bdefec4fa8": {
          "model_module": "@jupyter-widgets/base",
          "model_name": "LayoutModel",
          "state": {
            "_view_name": "LayoutView",
            "grid_template_rows": null,
            "right": null,
            "justify_content": null,
            "_view_module": "@jupyter-widgets/base",
            "overflow": null,
            "_model_module_version": "1.2.0",
            "_view_count": null,
            "flex_flow": null,
            "width": null,
            "min_width": null,
            "border": null,
            "align_items": null,
            "bottom": null,
            "_model_module": "@jupyter-widgets/base",
            "top": null,
            "grid_column": null,
            "overflow_y": null,
            "overflow_x": null,
            "grid_auto_flow": null,
            "grid_area": null,
            "grid_template_columns": null,
            "flex": null,
            "_model_name": "LayoutModel",
            "justify_items": null,
            "grid_row": null,
            "max_height": null,
            "align_content": null,
            "visibility": null,
            "align_self": null,
            "height": null,
            "min_height": null,
            "padding": null,
            "grid_auto_rows": null,
            "grid_gap": null,
            "max_width": null,
            "order": null,
            "_view_module_version": "1.2.0",
            "grid_template_areas": null,
            "object_position": null,
            "object_fit": null,
            "grid_auto_columns": null,
            "margin": null,
            "display": null,
            "left": null
          }
        },
        "e91dfe23e1f74c27905d8fc37a401c5c": {
          "model_module": "@jupyter-widgets/controls",
          "model_name": "FloatProgressModel",
          "state": {
            "_view_name": "ProgressView",
            "style": "IPY_MODEL_0195610047de4737885b959787a13c32",
            "_dom_classes": [],
            "description": "100%",
            "_model_name": "FloatProgressModel",
            "bar_style": "success",
            "max": 194,
            "_view_module": "@jupyter-widgets/controls",
            "_model_module_version": "1.5.0",
            "value": 194,
            "_view_count": null,
            "_view_module_version": "1.5.0",
            "orientation": "horizontal",
            "min": 0,
            "description_tooltip": null,
            "_model_module": "@jupyter-widgets/controls",
            "layout": "IPY_MODEL_452ff7cb9b2e4514a053ab101115bce1"
          }
        },
        "f8de75a19d254807b2fdc85ae8056169": {
          "model_module": "@jupyter-widgets/controls",
          "model_name": "HTMLModel",
          "state": {
            "_view_name": "HTMLView",
            "style": "IPY_MODEL_096b8a7035c7422d98f98b2f4349e834",
            "_dom_classes": [],
            "description": "",
            "_model_name": "HTMLModel",
            "placeholder": "​",
            "_view_module": "@jupyter-widgets/controls",
            "_model_module_version": "1.5.0",
            "value": " 194/194 [02:33&lt;00:00,  1.27it/s, Loss=0.523, Acc=73.899% (14298/19348)]",
            "_view_count": null,
            "_view_module_version": "1.5.0",
            "description_tooltip": null,
            "_model_module": "@jupyter-widgets/controls",
            "layout": "IPY_MODEL_a6162a320e65411080a263162cf51ac6"
          }
        },
        "0195610047de4737885b959787a13c32": {
          "model_module": "@jupyter-widgets/controls",
          "model_name": "ProgressStyleModel",
          "state": {
            "_view_name": "StyleView",
            "_model_name": "ProgressStyleModel",
            "description_width": "initial",
            "_view_module": "@jupyter-widgets/base",
            "_model_module_version": "1.5.0",
            "_view_count": null,
            "_view_module_version": "1.2.0",
            "bar_color": null,
            "_model_module": "@jupyter-widgets/controls"
          }
        },
        "452ff7cb9b2e4514a053ab101115bce1": {
          "model_module": "@jupyter-widgets/base",
          "model_name": "LayoutModel",
          "state": {
            "_view_name": "LayoutView",
            "grid_template_rows": null,
            "right": null,
            "justify_content": null,
            "_view_module": "@jupyter-widgets/base",
            "overflow": null,
            "_model_module_version": "1.2.0",
            "_view_count": null,
            "flex_flow": null,
            "width": null,
            "min_width": null,
            "border": null,
            "align_items": null,
            "bottom": null,
            "_model_module": "@jupyter-widgets/base",
            "top": null,
            "grid_column": null,
            "overflow_y": null,
            "overflow_x": null,
            "grid_auto_flow": null,
            "grid_area": null,
            "grid_template_columns": null,
            "flex": null,
            "_model_name": "LayoutModel",
            "justify_items": null,
            "grid_row": null,
            "max_height": null,
            "align_content": null,
            "visibility": null,
            "align_self": null,
            "height": null,
            "min_height": null,
            "padding": null,
            "grid_auto_rows": null,
            "grid_gap": null,
            "max_width": null,
            "order": null,
            "_view_module_version": "1.2.0",
            "grid_template_areas": null,
            "object_position": null,
            "object_fit": null,
            "grid_auto_columns": null,
            "margin": null,
            "display": null,
            "left": null
          }
        },
        "096b8a7035c7422d98f98b2f4349e834": {
          "model_module": "@jupyter-widgets/controls",
          "model_name": "DescriptionStyleModel",
          "state": {
            "_view_name": "StyleView",
            "_model_name": "DescriptionStyleModel",
            "description_width": "",
            "_view_module": "@jupyter-widgets/base",
            "_model_module_version": "1.5.0",
            "_view_count": null,
            "_view_module_version": "1.2.0",
            "_model_module": "@jupyter-widgets/controls"
          }
        },
        "a6162a320e65411080a263162cf51ac6": {
          "model_module": "@jupyter-widgets/base",
          "model_name": "LayoutModel",
          "state": {
            "_view_name": "LayoutView",
            "grid_template_rows": null,
            "right": null,
            "justify_content": null,
            "_view_module": "@jupyter-widgets/base",
            "overflow": null,
            "_model_module_version": "1.2.0",
            "_view_count": null,
            "flex_flow": null,
            "width": null,
            "min_width": null,
            "border": null,
            "align_items": null,
            "bottom": null,
            "_model_module": "@jupyter-widgets/base",
            "top": null,
            "grid_column": null,
            "overflow_y": null,
            "overflow_x": null,
            "grid_auto_flow": null,
            "grid_area": null,
            "grid_template_columns": null,
            "flex": null,
            "_model_name": "LayoutModel",
            "justify_items": null,
            "grid_row": null,
            "max_height": null,
            "align_content": null,
            "visibility": null,
            "align_self": null,
            "height": null,
            "min_height": null,
            "padding": null,
            "grid_auto_rows": null,
            "grid_gap": null,
            "max_width": null,
            "order": null,
            "_view_module_version": "1.2.0",
            "grid_template_areas": null,
            "object_position": null,
            "object_fit": null,
            "grid_auto_columns": null,
            "margin": null,
            "display": null,
            "left": null
          }
        },
        "6ea17838fa504486ae563bd4cca21069": {
          "model_module": "@jupyter-widgets/controls",
          "model_name": "HBoxModel",
          "state": {
            "_view_name": "HBoxView",
            "_dom_classes": [],
            "_model_name": "HBoxModel",
            "_view_module": "@jupyter-widgets/controls",
            "_model_module_version": "1.5.0",
            "_view_count": null,
            "_view_module_version": "1.5.0",
            "box_style": "",
            "layout": "IPY_MODEL_88113edc7435407a946b5da41239fc6c",
            "_model_module": "@jupyter-widgets/controls",
            "children": [
              "IPY_MODEL_dcb7009e87e9481caa9708d03ee509c4",
              "IPY_MODEL_45d6df419c624dc5aea1a50c4a0ff71c"
            ]
          }
        },
        "88113edc7435407a946b5da41239fc6c": {
          "model_module": "@jupyter-widgets/base",
          "model_name": "LayoutModel",
          "state": {
            "_view_name": "LayoutView",
            "grid_template_rows": null,
            "right": null,
            "justify_content": null,
            "_view_module": "@jupyter-widgets/base",
            "overflow": null,
            "_model_module_version": "1.2.0",
            "_view_count": null,
            "flex_flow": null,
            "width": null,
            "min_width": null,
            "border": null,
            "align_items": null,
            "bottom": null,
            "_model_module": "@jupyter-widgets/base",
            "top": null,
            "grid_column": null,
            "overflow_y": null,
            "overflow_x": null,
            "grid_auto_flow": null,
            "grid_area": null,
            "grid_template_columns": null,
            "flex": null,
            "_model_name": "LayoutModel",
            "justify_items": null,
            "grid_row": null,
            "max_height": null,
            "align_content": null,
            "visibility": null,
            "align_self": null,
            "height": null,
            "min_height": null,
            "padding": null,
            "grid_auto_rows": null,
            "grid_gap": null,
            "max_width": null,
            "order": null,
            "_view_module_version": "1.2.0",
            "grid_template_areas": null,
            "object_position": null,
            "object_fit": null,
            "grid_auto_columns": null,
            "margin": null,
            "display": null,
            "left": null
          }
        },
        "dcb7009e87e9481caa9708d03ee509c4": {
          "model_module": "@jupyter-widgets/controls",
          "model_name": "FloatProgressModel",
          "state": {
            "_view_name": "ProgressView",
            "style": "IPY_MODEL_c3a857e4848542bf8bf0ae32603ef086",
            "_dom_classes": [],
            "description": "100%",
            "_model_name": "FloatProgressModel",
            "bar_style": "success",
            "max": 194,
            "_view_module": "@jupyter-widgets/controls",
            "_model_module_version": "1.5.0",
            "value": 194,
            "_view_count": null,
            "_view_module_version": "1.5.0",
            "orientation": "horizontal",
            "min": 0,
            "description_tooltip": null,
            "_model_module": "@jupyter-widgets/controls",
            "layout": "IPY_MODEL_e4412b82418047238b4b9a66a1157664"
          }
        },
        "45d6df419c624dc5aea1a50c4a0ff71c": {
          "model_module": "@jupyter-widgets/controls",
          "model_name": "HTMLModel",
          "state": {
            "_view_name": "HTMLView",
            "style": "IPY_MODEL_ad83e908aa304513a0ac4668c62396f8",
            "_dom_classes": [],
            "description": "",
            "_model_name": "HTMLModel",
            "placeholder": "​",
            "_view_module": "@jupyter-widgets/controls",
            "_model_module_version": "1.5.0",
            "value": " 194/194 [01:20&lt;00:00,  2.40it/s, Loss=0.408, Acc=81.145% (15700/19348)]",
            "_view_count": null,
            "_view_module_version": "1.5.0",
            "description_tooltip": null,
            "_model_module": "@jupyter-widgets/controls",
            "layout": "IPY_MODEL_f160a0116cb148e693519c25267c1260"
          }
        },
        "c3a857e4848542bf8bf0ae32603ef086": {
          "model_module": "@jupyter-widgets/controls",
          "model_name": "ProgressStyleModel",
          "state": {
            "_view_name": "StyleView",
            "_model_name": "ProgressStyleModel",
            "description_width": "initial",
            "_view_module": "@jupyter-widgets/base",
            "_model_module_version": "1.5.0",
            "_view_count": null,
            "_view_module_version": "1.2.0",
            "bar_color": null,
            "_model_module": "@jupyter-widgets/controls"
          }
        },
        "e4412b82418047238b4b9a66a1157664": {
          "model_module": "@jupyter-widgets/base",
          "model_name": "LayoutModel",
          "state": {
            "_view_name": "LayoutView",
            "grid_template_rows": null,
            "right": null,
            "justify_content": null,
            "_view_module": "@jupyter-widgets/base",
            "overflow": null,
            "_model_module_version": "1.2.0",
            "_view_count": null,
            "flex_flow": null,
            "width": null,
            "min_width": null,
            "border": null,
            "align_items": null,
            "bottom": null,
            "_model_module": "@jupyter-widgets/base",
            "top": null,
            "grid_column": null,
            "overflow_y": null,
            "overflow_x": null,
            "grid_auto_flow": null,
            "grid_area": null,
            "grid_template_columns": null,
            "flex": null,
            "_model_name": "LayoutModel",
            "justify_items": null,
            "grid_row": null,
            "max_height": null,
            "align_content": null,
            "visibility": null,
            "align_self": null,
            "height": null,
            "min_height": null,
            "padding": null,
            "grid_auto_rows": null,
            "grid_gap": null,
            "max_width": null,
            "order": null,
            "_view_module_version": "1.2.0",
            "grid_template_areas": null,
            "object_position": null,
            "object_fit": null,
            "grid_auto_columns": null,
            "margin": null,
            "display": null,
            "left": null
          }
        },
        "ad83e908aa304513a0ac4668c62396f8": {
          "model_module": "@jupyter-widgets/controls",
          "model_name": "DescriptionStyleModel",
          "state": {
            "_view_name": "StyleView",
            "_model_name": "DescriptionStyleModel",
            "description_width": "",
            "_view_module": "@jupyter-widgets/base",
            "_model_module_version": "1.5.0",
            "_view_count": null,
            "_view_module_version": "1.2.0",
            "_model_module": "@jupyter-widgets/controls"
          }
        },
        "f160a0116cb148e693519c25267c1260": {
          "model_module": "@jupyter-widgets/base",
          "model_name": "LayoutModel",
          "state": {
            "_view_name": "LayoutView",
            "grid_template_rows": null,
            "right": null,
            "justify_content": null,
            "_view_module": "@jupyter-widgets/base",
            "overflow": null,
            "_model_module_version": "1.2.0",
            "_view_count": null,
            "flex_flow": null,
            "width": null,
            "min_width": null,
            "border": null,
            "align_items": null,
            "bottom": null,
            "_model_module": "@jupyter-widgets/base",
            "top": null,
            "grid_column": null,
            "overflow_y": null,
            "overflow_x": null,
            "grid_auto_flow": null,
            "grid_area": null,
            "grid_template_columns": null,
            "flex": null,
            "_model_name": "LayoutModel",
            "justify_items": null,
            "grid_row": null,
            "max_height": null,
            "align_content": null,
            "visibility": null,
            "align_self": null,
            "height": null,
            "min_height": null,
            "padding": null,
            "grid_auto_rows": null,
            "grid_gap": null,
            "max_width": null,
            "order": null,
            "_view_module_version": "1.2.0",
            "grid_template_areas": null,
            "object_position": null,
            "object_fit": null,
            "grid_auto_columns": null,
            "margin": null,
            "display": null,
            "left": null
          }
        },
        "b1011e2702e348589383d542466cf1c1": {
          "model_module": "@jupyter-widgets/controls",
          "model_name": "HBoxModel",
          "state": {
            "_view_name": "HBoxView",
            "_dom_classes": [],
            "_model_name": "HBoxModel",
            "_view_module": "@jupyter-widgets/controls",
            "_model_module_version": "1.5.0",
            "_view_count": null,
            "_view_module_version": "1.5.0",
            "box_style": "",
            "layout": "IPY_MODEL_78f41673b0444135923c767187a70a69",
            "_model_module": "@jupyter-widgets/controls",
            "children": [
              "IPY_MODEL_297f42ad1db84f8f957947f3179c7663",
              "IPY_MODEL_1b11bf75bea145c7ad2b2cd6f21718f4"
            ]
          }
        },
        "78f41673b0444135923c767187a70a69": {
          "model_module": "@jupyter-widgets/base",
          "model_name": "LayoutModel",
          "state": {
            "_view_name": "LayoutView",
            "grid_template_rows": null,
            "right": null,
            "justify_content": null,
            "_view_module": "@jupyter-widgets/base",
            "overflow": null,
            "_model_module_version": "1.2.0",
            "_view_count": null,
            "flex_flow": null,
            "width": null,
            "min_width": null,
            "border": null,
            "align_items": null,
            "bottom": null,
            "_model_module": "@jupyter-widgets/base",
            "top": null,
            "grid_column": null,
            "overflow_y": null,
            "overflow_x": null,
            "grid_auto_flow": null,
            "grid_area": null,
            "grid_template_columns": null,
            "flex": null,
            "_model_name": "LayoutModel",
            "justify_items": null,
            "grid_row": null,
            "max_height": null,
            "align_content": null,
            "visibility": null,
            "align_self": null,
            "height": null,
            "min_height": null,
            "padding": null,
            "grid_auto_rows": null,
            "grid_gap": null,
            "max_width": null,
            "order": null,
            "_view_module_version": "1.2.0",
            "grid_template_areas": null,
            "object_position": null,
            "object_fit": null,
            "grid_auto_columns": null,
            "margin": null,
            "display": null,
            "left": null
          }
        },
        "297f42ad1db84f8f957947f3179c7663": {
          "model_module": "@jupyter-widgets/controls",
          "model_name": "FloatProgressModel",
          "state": {
            "_view_name": "ProgressView",
            "style": "IPY_MODEL_00a27d4cf0b7406585446ab45fde70cc",
            "_dom_classes": [],
            "description": "100%",
            "_model_name": "FloatProgressModel",
            "bar_style": "success",
            "max": 194,
            "_view_module": "@jupyter-widgets/controls",
            "_model_module_version": "1.5.0",
            "value": 194,
            "_view_count": null,
            "_view_module_version": "1.5.0",
            "orientation": "horizontal",
            "min": 0,
            "description_tooltip": null,
            "_model_module": "@jupyter-widgets/controls",
            "layout": "IPY_MODEL_8c6cd1f1fded42e69363157f65ebe304"
          }
        },
        "1b11bf75bea145c7ad2b2cd6f21718f4": {
          "model_module": "@jupyter-widgets/controls",
          "model_name": "HTMLModel",
          "state": {
            "_view_name": "HTMLView",
            "style": "IPY_MODEL_677254c783ac44f29259cbdb5ae6c188",
            "_dom_classes": [],
            "description": "",
            "_model_name": "HTMLModel",
            "placeholder": "​",
            "_view_module": "@jupyter-widgets/controls",
            "_model_module_version": "1.5.0",
            "value": " 194/194 [01:12&lt;00:00,  2.67it/s, Loss=0.357, Acc=84.231% (16297/19348)]",
            "_view_count": null,
            "_view_module_version": "1.5.0",
            "description_tooltip": null,
            "_model_module": "@jupyter-widgets/controls",
            "layout": "IPY_MODEL_c884dcfd546549408549964cc878f9ac"
          }
        },
        "00a27d4cf0b7406585446ab45fde70cc": {
          "model_module": "@jupyter-widgets/controls",
          "model_name": "ProgressStyleModel",
          "state": {
            "_view_name": "StyleView",
            "_model_name": "ProgressStyleModel",
            "description_width": "initial",
            "_view_module": "@jupyter-widgets/base",
            "_model_module_version": "1.5.0",
            "_view_count": null,
            "_view_module_version": "1.2.0",
            "bar_color": null,
            "_model_module": "@jupyter-widgets/controls"
          }
        },
        "8c6cd1f1fded42e69363157f65ebe304": {
          "model_module": "@jupyter-widgets/base",
          "model_name": "LayoutModel",
          "state": {
            "_view_name": "LayoutView",
            "grid_template_rows": null,
            "right": null,
            "justify_content": null,
            "_view_module": "@jupyter-widgets/base",
            "overflow": null,
            "_model_module_version": "1.2.0",
            "_view_count": null,
            "flex_flow": null,
            "width": null,
            "min_width": null,
            "border": null,
            "align_items": null,
            "bottom": null,
            "_model_module": "@jupyter-widgets/base",
            "top": null,
            "grid_column": null,
            "overflow_y": null,
            "overflow_x": null,
            "grid_auto_flow": null,
            "grid_area": null,
            "grid_template_columns": null,
            "flex": null,
            "_model_name": "LayoutModel",
            "justify_items": null,
            "grid_row": null,
            "max_height": null,
            "align_content": null,
            "visibility": null,
            "align_self": null,
            "height": null,
            "min_height": null,
            "padding": null,
            "grid_auto_rows": null,
            "grid_gap": null,
            "max_width": null,
            "order": null,
            "_view_module_version": "1.2.0",
            "grid_template_areas": null,
            "object_position": null,
            "object_fit": null,
            "grid_auto_columns": null,
            "margin": null,
            "display": null,
            "left": null
          }
        },
        "677254c783ac44f29259cbdb5ae6c188": {
          "model_module": "@jupyter-widgets/controls",
          "model_name": "DescriptionStyleModel",
          "state": {
            "_view_name": "StyleView",
            "_model_name": "DescriptionStyleModel",
            "description_width": "",
            "_view_module": "@jupyter-widgets/base",
            "_model_module_version": "1.5.0",
            "_view_count": null,
            "_view_module_version": "1.2.0",
            "_model_module": "@jupyter-widgets/controls"
          }
        },
        "c884dcfd546549408549964cc878f9ac": {
          "model_module": "@jupyter-widgets/base",
          "model_name": "LayoutModel",
          "state": {
            "_view_name": "LayoutView",
            "grid_template_rows": null,
            "right": null,
            "justify_content": null,
            "_view_module": "@jupyter-widgets/base",
            "overflow": null,
            "_model_module_version": "1.2.0",
            "_view_count": null,
            "flex_flow": null,
            "width": null,
            "min_width": null,
            "border": null,
            "align_items": null,
            "bottom": null,
            "_model_module": "@jupyter-widgets/base",
            "top": null,
            "grid_column": null,
            "overflow_y": null,
            "overflow_x": null,
            "grid_auto_flow": null,
            "grid_area": null,
            "grid_template_columns": null,
            "flex": null,
            "_model_name": "LayoutModel",
            "justify_items": null,
            "grid_row": null,
            "max_height": null,
            "align_content": null,
            "visibility": null,
            "align_self": null,
            "height": null,
            "min_height": null,
            "padding": null,
            "grid_auto_rows": null,
            "grid_gap": null,
            "max_width": null,
            "order": null,
            "_view_module_version": "1.2.0",
            "grid_template_areas": null,
            "object_position": null,
            "object_fit": null,
            "grid_auto_columns": null,
            "margin": null,
            "display": null,
            "left": null
          }
        },
        "7565fbb0d8fc4598bd2e66e34279f1ea": {
          "model_module": "@jupyter-widgets/controls",
          "model_name": "HBoxModel",
          "state": {
            "_view_name": "HBoxView",
            "_dom_classes": [],
            "_model_name": "HBoxModel",
            "_view_module": "@jupyter-widgets/controls",
            "_model_module_version": "1.5.0",
            "_view_count": null,
            "_view_module_version": "1.5.0",
            "box_style": "",
            "layout": "IPY_MODEL_0bbfb1a7940a452ca226069c4bed6ec8",
            "_model_module": "@jupyter-widgets/controls",
            "children": [
              "IPY_MODEL_9ddb72455fd54570b1013aad70b0454a",
              "IPY_MODEL_4bbc8bc671354cf3827d15a4fdabe35a"
            ]
          }
        },
        "0bbfb1a7940a452ca226069c4bed6ec8": {
          "model_module": "@jupyter-widgets/base",
          "model_name": "LayoutModel",
          "state": {
            "_view_name": "LayoutView",
            "grid_template_rows": null,
            "right": null,
            "justify_content": null,
            "_view_module": "@jupyter-widgets/base",
            "overflow": null,
            "_model_module_version": "1.2.0",
            "_view_count": null,
            "flex_flow": null,
            "width": null,
            "min_width": null,
            "border": null,
            "align_items": null,
            "bottom": null,
            "_model_module": "@jupyter-widgets/base",
            "top": null,
            "grid_column": null,
            "overflow_y": null,
            "overflow_x": null,
            "grid_auto_flow": null,
            "grid_area": null,
            "grid_template_columns": null,
            "flex": null,
            "_model_name": "LayoutModel",
            "justify_items": null,
            "grid_row": null,
            "max_height": null,
            "align_content": null,
            "visibility": null,
            "align_self": null,
            "height": null,
            "min_height": null,
            "padding": null,
            "grid_auto_rows": null,
            "grid_gap": null,
            "max_width": null,
            "order": null,
            "_view_module_version": "1.2.0",
            "grid_template_areas": null,
            "object_position": null,
            "object_fit": null,
            "grid_auto_columns": null,
            "margin": null,
            "display": null,
            "left": null
          }
        },
        "9ddb72455fd54570b1013aad70b0454a": {
          "model_module": "@jupyter-widgets/controls",
          "model_name": "FloatProgressModel",
          "state": {
            "_view_name": "ProgressView",
            "style": "IPY_MODEL_f67f858e606b4a1885077dea67a91647",
            "_dom_classes": [],
            "description": "100%",
            "_model_name": "FloatProgressModel",
            "bar_style": "success",
            "max": 238,
            "_view_module": "@jupyter-widgets/controls",
            "_model_module_version": "1.5.0",
            "value": 238,
            "_view_count": null,
            "_view_module_version": "1.5.0",
            "orientation": "horizontal",
            "min": 0,
            "description_tooltip": null,
            "_model_module": "@jupyter-widgets/controls",
            "layout": "IPY_MODEL_a97e0fbd13734db1b351e8bd3fb931c7"
          }
        },
        "4bbc8bc671354cf3827d15a4fdabe35a": {
          "model_module": "@jupyter-widgets/controls",
          "model_name": "HTMLModel",
          "state": {
            "_view_name": "HTMLView",
            "style": "IPY_MODEL_7b388073864a47e4ab7428af358d8a23",
            "_dom_classes": [],
            "description": "",
            "_model_name": "HTMLModel",
            "placeholder": "​",
            "_view_module": "@jupyter-widgets/controls",
            "_model_module_version": "1.5.0",
            "value": " 238/238 [00:59&lt;00:00,  4.03it/s]",
            "_view_count": null,
            "_view_module_version": "1.5.0",
            "description_tooltip": null,
            "_model_module": "@jupyter-widgets/controls",
            "layout": "IPY_MODEL_c1a2207b1fd743509d4c3545bfbe7750"
          }
        },
        "f67f858e606b4a1885077dea67a91647": {
          "model_module": "@jupyter-widgets/controls",
          "model_name": "ProgressStyleModel",
          "state": {
            "_view_name": "StyleView",
            "_model_name": "ProgressStyleModel",
            "description_width": "initial",
            "_view_module": "@jupyter-widgets/base",
            "_model_module_version": "1.5.0",
            "_view_count": null,
            "_view_module_version": "1.2.0",
            "bar_color": null,
            "_model_module": "@jupyter-widgets/controls"
          }
        },
        "a97e0fbd13734db1b351e8bd3fb931c7": {
          "model_module": "@jupyter-widgets/base",
          "model_name": "LayoutModel",
          "state": {
            "_view_name": "LayoutView",
            "grid_template_rows": null,
            "right": null,
            "justify_content": null,
            "_view_module": "@jupyter-widgets/base",
            "overflow": null,
            "_model_module_version": "1.2.0",
            "_view_count": null,
            "flex_flow": null,
            "width": null,
            "min_width": null,
            "border": null,
            "align_items": null,
            "bottom": null,
            "_model_module": "@jupyter-widgets/base",
            "top": null,
            "grid_column": null,
            "overflow_y": null,
            "overflow_x": null,
            "grid_auto_flow": null,
            "grid_area": null,
            "grid_template_columns": null,
            "flex": null,
            "_model_name": "LayoutModel",
            "justify_items": null,
            "grid_row": null,
            "max_height": null,
            "align_content": null,
            "visibility": null,
            "align_self": null,
            "height": null,
            "min_height": null,
            "padding": null,
            "grid_auto_rows": null,
            "grid_gap": null,
            "max_width": null,
            "order": null,
            "_view_module_version": "1.2.0",
            "grid_template_areas": null,
            "object_position": null,
            "object_fit": null,
            "grid_auto_columns": null,
            "margin": null,
            "display": null,
            "left": null
          }
        },
        "7b388073864a47e4ab7428af358d8a23": {
          "model_module": "@jupyter-widgets/controls",
          "model_name": "DescriptionStyleModel",
          "state": {
            "_view_name": "StyleView",
            "_model_name": "DescriptionStyleModel",
            "description_width": "",
            "_view_module": "@jupyter-widgets/base",
            "_model_module_version": "1.5.0",
            "_view_count": null,
            "_view_module_version": "1.2.0",
            "_model_module": "@jupyter-widgets/controls"
          }
        },
        "c1a2207b1fd743509d4c3545bfbe7750": {
          "model_module": "@jupyter-widgets/base",
          "model_name": "LayoutModel",
          "state": {
            "_view_name": "LayoutView",
            "grid_template_rows": null,
            "right": null,
            "justify_content": null,
            "_view_module": "@jupyter-widgets/base",
            "overflow": null,
            "_model_module_version": "1.2.0",
            "_view_count": null,
            "flex_flow": null,
            "width": null,
            "min_width": null,
            "border": null,
            "align_items": null,
            "bottom": null,
            "_model_module": "@jupyter-widgets/base",
            "top": null,
            "grid_column": null,
            "overflow_y": null,
            "overflow_x": null,
            "grid_auto_flow": null,
            "grid_area": null,
            "grid_template_columns": null,
            "flex": null,
            "_model_name": "LayoutModel",
            "justify_items": null,
            "grid_row": null,
            "max_height": null,
            "align_content": null,
            "visibility": null,
            "align_self": null,
            "height": null,
            "min_height": null,
            "padding": null,
            "grid_auto_rows": null,
            "grid_gap": null,
            "max_width": null,
            "order": null,
            "_view_module_version": "1.2.0",
            "grid_template_areas": null,
            "object_position": null,
            "object_fit": null,
            "grid_auto_columns": null,
            "margin": null,
            "display": null,
            "left": null
          }
        },
        "96dd14c0284f4d7bb45b2780471e491b": {
          "model_module": "@jupyter-widgets/controls",
          "model_name": "HBoxModel",
          "state": {
            "_view_name": "HBoxView",
            "_dom_classes": [],
            "_model_name": "HBoxModel",
            "_view_module": "@jupyter-widgets/controls",
            "_model_module_version": "1.5.0",
            "_view_count": null,
            "_view_module_version": "1.5.0",
            "box_style": "",
            "layout": "IPY_MODEL_ce22d49a0b6a41d08cf83d22d7da1c1e",
            "_model_module": "@jupyter-widgets/controls",
            "children": [
              "IPY_MODEL_9f40b41a1b904b7dbc6c79cbf4dd2d45",
              "IPY_MODEL_2717a00581464fe5b53c07f98e1c2c67"
            ]
          }
        },
        "ce22d49a0b6a41d08cf83d22d7da1c1e": {
          "model_module": "@jupyter-widgets/base",
          "model_name": "LayoutModel",
          "state": {
            "_view_name": "LayoutView",
            "grid_template_rows": null,
            "right": null,
            "justify_content": null,
            "_view_module": "@jupyter-widgets/base",
            "overflow": null,
            "_model_module_version": "1.2.0",
            "_view_count": null,
            "flex_flow": null,
            "width": null,
            "min_width": null,
            "border": null,
            "align_items": null,
            "bottom": null,
            "_model_module": "@jupyter-widgets/base",
            "top": null,
            "grid_column": null,
            "overflow_y": null,
            "overflow_x": null,
            "grid_auto_flow": null,
            "grid_area": null,
            "grid_template_columns": null,
            "flex": null,
            "_model_name": "LayoutModel",
            "justify_items": null,
            "grid_row": null,
            "max_height": null,
            "align_content": null,
            "visibility": null,
            "align_self": null,
            "height": null,
            "min_height": null,
            "padding": null,
            "grid_auto_rows": null,
            "grid_gap": null,
            "max_width": null,
            "order": null,
            "_view_module_version": "1.2.0",
            "grid_template_areas": null,
            "object_position": null,
            "object_fit": null,
            "grid_auto_columns": null,
            "margin": null,
            "display": null,
            "left": null
          }
        },
        "9f40b41a1b904b7dbc6c79cbf4dd2d45": {
          "model_module": "@jupyter-widgets/controls",
          "model_name": "FloatProgressModel",
          "state": {
            "_view_name": "ProgressView",
            "style": "IPY_MODEL_1986fc6b4f144a4fb2ea53392b89e8fa",
            "_dom_classes": [],
            "description": "100%",
            "_model_name": "FloatProgressModel",
            "bar_style": "success",
            "max": 130,
            "_view_module": "@jupyter-widgets/controls",
            "_model_module_version": "1.5.0",
            "value": 130,
            "_view_count": null,
            "_view_module_version": "1.5.0",
            "orientation": "horizontal",
            "min": 0,
            "description_tooltip": null,
            "_model_module": "@jupyter-widgets/controls",
            "layout": "IPY_MODEL_a739dfb6ae774e839f0f617b05cef88a"
          }
        },
        "2717a00581464fe5b53c07f98e1c2c67": {
          "model_module": "@jupyter-widgets/controls",
          "model_name": "HTMLModel",
          "state": {
            "_view_name": "HTMLView",
            "style": "IPY_MODEL_28ab774f29194bc19b8dab738eb89c2f",
            "_dom_classes": [],
            "description": "",
            "_model_name": "HTMLModel",
            "placeholder": "​",
            "_view_module": "@jupyter-widgets/controls",
            "_model_module_version": "1.5.0",
            "value": " 130/130 [00:16&lt;00:00,  7.94it/s]",
            "_view_count": null,
            "_view_module_version": "1.5.0",
            "description_tooltip": null,
            "_model_module": "@jupyter-widgets/controls",
            "layout": "IPY_MODEL_c18d8413d8314eca89cf8d1179d12ef1"
          }
        },
        "1986fc6b4f144a4fb2ea53392b89e8fa": {
          "model_module": "@jupyter-widgets/controls",
          "model_name": "ProgressStyleModel",
          "state": {
            "_view_name": "StyleView",
            "_model_name": "ProgressStyleModel",
            "description_width": "initial",
            "_view_module": "@jupyter-widgets/base",
            "_model_module_version": "1.5.0",
            "_view_count": null,
            "_view_module_version": "1.2.0",
            "bar_color": null,
            "_model_module": "@jupyter-widgets/controls"
          }
        },
        "a739dfb6ae774e839f0f617b05cef88a": {
          "model_module": "@jupyter-widgets/base",
          "model_name": "LayoutModel",
          "state": {
            "_view_name": "LayoutView",
            "grid_template_rows": null,
            "right": null,
            "justify_content": null,
            "_view_module": "@jupyter-widgets/base",
            "overflow": null,
            "_model_module_version": "1.2.0",
            "_view_count": null,
            "flex_flow": null,
            "width": null,
            "min_width": null,
            "border": null,
            "align_items": null,
            "bottom": null,
            "_model_module": "@jupyter-widgets/base",
            "top": null,
            "grid_column": null,
            "overflow_y": null,
            "overflow_x": null,
            "grid_auto_flow": null,
            "grid_area": null,
            "grid_template_columns": null,
            "flex": null,
            "_model_name": "LayoutModel",
            "justify_items": null,
            "grid_row": null,
            "max_height": null,
            "align_content": null,
            "visibility": null,
            "align_self": null,
            "height": null,
            "min_height": null,
            "padding": null,
            "grid_auto_rows": null,
            "grid_gap": null,
            "max_width": null,
            "order": null,
            "_view_module_version": "1.2.0",
            "grid_template_areas": null,
            "object_position": null,
            "object_fit": null,
            "grid_auto_columns": null,
            "margin": null,
            "display": null,
            "left": null
          }
        },
        "28ab774f29194bc19b8dab738eb89c2f": {
          "model_module": "@jupyter-widgets/controls",
          "model_name": "DescriptionStyleModel",
          "state": {
            "_view_name": "StyleView",
            "_model_name": "DescriptionStyleModel",
            "description_width": "",
            "_view_module": "@jupyter-widgets/base",
            "_model_module_version": "1.5.0",
            "_view_count": null,
            "_view_module_version": "1.2.0",
            "_model_module": "@jupyter-widgets/controls"
          }
        },
        "c18d8413d8314eca89cf8d1179d12ef1": {
          "model_module": "@jupyter-widgets/base",
          "model_name": "LayoutModel",
          "state": {
            "_view_name": "LayoutView",
            "grid_template_rows": null,
            "right": null,
            "justify_content": null,
            "_view_module": "@jupyter-widgets/base",
            "overflow": null,
            "_model_module_version": "1.2.0",
            "_view_count": null,
            "flex_flow": null,
            "width": null,
            "min_width": null,
            "border": null,
            "align_items": null,
            "bottom": null,
            "_model_module": "@jupyter-widgets/base",
            "top": null,
            "grid_column": null,
            "overflow_y": null,
            "overflow_x": null,
            "grid_auto_flow": null,
            "grid_area": null,
            "grid_template_columns": null,
            "flex": null,
            "_model_name": "LayoutModel",
            "justify_items": null,
            "grid_row": null,
            "max_height": null,
            "align_content": null,
            "visibility": null,
            "align_self": null,
            "height": null,
            "min_height": null,
            "padding": null,
            "grid_auto_rows": null,
            "grid_gap": null,
            "max_width": null,
            "order": null,
            "_view_module_version": "1.2.0",
            "grid_template_areas": null,
            "object_position": null,
            "object_fit": null,
            "grid_auto_columns": null,
            "margin": null,
            "display": null,
            "left": null
          }
        },
        "80dfd1772c9741a1aaf8e4cfaf33141c": {
          "model_module": "@jupyter-widgets/controls",
          "model_name": "HBoxModel",
          "state": {
            "_view_name": "HBoxView",
            "_dom_classes": [],
            "_model_name": "HBoxModel",
            "_view_module": "@jupyter-widgets/controls",
            "_model_module_version": "1.5.0",
            "_view_count": null,
            "_view_module_version": "1.5.0",
            "box_style": "",
            "layout": "IPY_MODEL_02d1767a4d134af4bf3194d47ec78d91",
            "_model_module": "@jupyter-widgets/controls",
            "children": [
              "IPY_MODEL_08f855d6aa2a4a869cdccfead8e5e91f",
              "IPY_MODEL_3e25303540d04608953fe18fcb94b5bb"
            ]
          }
        },
        "02d1767a4d134af4bf3194d47ec78d91": {
          "model_module": "@jupyter-widgets/base",
          "model_name": "LayoutModel",
          "state": {
            "_view_name": "LayoutView",
            "grid_template_rows": null,
            "right": null,
            "justify_content": null,
            "_view_module": "@jupyter-widgets/base",
            "overflow": null,
            "_model_module_version": "1.2.0",
            "_view_count": null,
            "flex_flow": null,
            "width": null,
            "min_width": null,
            "border": null,
            "align_items": null,
            "bottom": null,
            "_model_module": "@jupyter-widgets/base",
            "top": null,
            "grid_column": null,
            "overflow_y": null,
            "overflow_x": null,
            "grid_auto_flow": null,
            "grid_area": null,
            "grid_template_columns": null,
            "flex": null,
            "_model_name": "LayoutModel",
            "justify_items": null,
            "grid_row": null,
            "max_height": null,
            "align_content": null,
            "visibility": null,
            "align_self": null,
            "height": null,
            "min_height": null,
            "padding": null,
            "grid_auto_rows": null,
            "grid_gap": null,
            "max_width": null,
            "order": null,
            "_view_module_version": "1.2.0",
            "grid_template_areas": null,
            "object_position": null,
            "object_fit": null,
            "grid_auto_columns": null,
            "margin": null,
            "display": null,
            "left": null
          }
        },
        "08f855d6aa2a4a869cdccfead8e5e91f": {
          "model_module": "@jupyter-widgets/controls",
          "model_name": "FloatProgressModel",
          "state": {
            "_view_name": "ProgressView",
            "style": "IPY_MODEL_5056e4361fb94ea9879c6a89a25ae946",
            "_dom_classes": [],
            "description": "100%",
            "_model_name": "FloatProgressModel",
            "bar_style": "success",
            "max": 33,
            "_view_module": "@jupyter-widgets/controls",
            "_model_module_version": "1.5.0",
            "value": 33,
            "_view_count": null,
            "_view_module_version": "1.5.0",
            "orientation": "horizontal",
            "min": 0,
            "description_tooltip": null,
            "_model_module": "@jupyter-widgets/controls",
            "layout": "IPY_MODEL_68e530e8de3940f490f7a20a9b5820ba"
          }
        },
        "3e25303540d04608953fe18fcb94b5bb": {
          "model_module": "@jupyter-widgets/controls",
          "model_name": "HTMLModel",
          "state": {
            "_view_name": "HTMLView",
            "style": "IPY_MODEL_5bde6c849fe540949915f519e9fd50fa",
            "_dom_classes": [],
            "description": "",
            "_model_name": "HTMLModel",
            "placeholder": "​",
            "_view_module": "@jupyter-widgets/controls",
            "_model_module_version": "1.5.0",
            "value": " 33/33 [00:03&lt;00:00, 10.21it/s]",
            "_view_count": null,
            "_view_module_version": "1.5.0",
            "description_tooltip": null,
            "_model_module": "@jupyter-widgets/controls",
            "layout": "IPY_MODEL_409cf859412046a197ca1c70b38245e7"
          }
        },
        "5056e4361fb94ea9879c6a89a25ae946": {
          "model_module": "@jupyter-widgets/controls",
          "model_name": "ProgressStyleModel",
          "state": {
            "_view_name": "StyleView",
            "_model_name": "ProgressStyleModel",
            "description_width": "initial",
            "_view_module": "@jupyter-widgets/base",
            "_model_module_version": "1.5.0",
            "_view_count": null,
            "_view_module_version": "1.2.0",
            "bar_color": null,
            "_model_module": "@jupyter-widgets/controls"
          }
        },
        "68e530e8de3940f490f7a20a9b5820ba": {
          "model_module": "@jupyter-widgets/base",
          "model_name": "LayoutModel",
          "state": {
            "_view_name": "LayoutView",
            "grid_template_rows": null,
            "right": null,
            "justify_content": null,
            "_view_module": "@jupyter-widgets/base",
            "overflow": null,
            "_model_module_version": "1.2.0",
            "_view_count": null,
            "flex_flow": null,
            "width": null,
            "min_width": null,
            "border": null,
            "align_items": null,
            "bottom": null,
            "_model_module": "@jupyter-widgets/base",
            "top": null,
            "grid_column": null,
            "overflow_y": null,
            "overflow_x": null,
            "grid_auto_flow": null,
            "grid_area": null,
            "grid_template_columns": null,
            "flex": null,
            "_model_name": "LayoutModel",
            "justify_items": null,
            "grid_row": null,
            "max_height": null,
            "align_content": null,
            "visibility": null,
            "align_self": null,
            "height": null,
            "min_height": null,
            "padding": null,
            "grid_auto_rows": null,
            "grid_gap": null,
            "max_width": null,
            "order": null,
            "_view_module_version": "1.2.0",
            "grid_template_areas": null,
            "object_position": null,
            "object_fit": null,
            "grid_auto_columns": null,
            "margin": null,
            "display": null,
            "left": null
          }
        },
        "5bde6c849fe540949915f519e9fd50fa": {
          "model_module": "@jupyter-widgets/controls",
          "model_name": "DescriptionStyleModel",
          "state": {
            "_view_name": "StyleView",
            "_model_name": "DescriptionStyleModel",
            "description_width": "",
            "_view_module": "@jupyter-widgets/base",
            "_model_module_version": "1.5.0",
            "_view_count": null,
            "_view_module_version": "1.2.0",
            "_model_module": "@jupyter-widgets/controls"
          }
        },
        "409cf859412046a197ca1c70b38245e7": {
          "model_module": "@jupyter-widgets/base",
          "model_name": "LayoutModel",
          "state": {
            "_view_name": "LayoutView",
            "grid_template_rows": null,
            "right": null,
            "justify_content": null,
            "_view_module": "@jupyter-widgets/base",
            "overflow": null,
            "_model_module_version": "1.2.0",
            "_view_count": null,
            "flex_flow": null,
            "width": null,
            "min_width": null,
            "border": null,
            "align_items": null,
            "bottom": null,
            "_model_module": "@jupyter-widgets/base",
            "top": null,
            "grid_column": null,
            "overflow_y": null,
            "overflow_x": null,
            "grid_auto_flow": null,
            "grid_area": null,
            "grid_template_columns": null,
            "flex": null,
            "_model_name": "LayoutModel",
            "justify_items": null,
            "grid_row": null,
            "max_height": null,
            "align_content": null,
            "visibility": null,
            "align_self": null,
            "height": null,
            "min_height": null,
            "padding": null,
            "grid_auto_rows": null,
            "grid_gap": null,
            "max_width": null,
            "order": null,
            "_view_module_version": "1.2.0",
            "grid_template_areas": null,
            "object_position": null,
            "object_fit": null,
            "grid_auto_columns": null,
            "margin": null,
            "display": null,
            "left": null
          }
        },
        "6a736a6b0f5845cc8852cbc9d4031c8b": {
          "model_module": "@jupyter-widgets/controls",
          "model_name": "HBoxModel",
          "state": {
            "_view_name": "HBoxView",
            "_dom_classes": [],
            "_model_name": "HBoxModel",
            "_view_module": "@jupyter-widgets/controls",
            "_model_module_version": "1.5.0",
            "_view_count": null,
            "_view_module_version": "1.5.0",
            "box_style": "",
            "layout": "IPY_MODEL_4be6c12e1df346d1a74ab87200d0ff78",
            "_model_module": "@jupyter-widgets/controls",
            "children": [
              "IPY_MODEL_0c41627cf59d43d3a68ba5aa32b9145c",
              "IPY_MODEL_7d1cbf249d71402a89c91c3a87ac5b19"
            ]
          }
        },
        "4be6c12e1df346d1a74ab87200d0ff78": {
          "model_module": "@jupyter-widgets/base",
          "model_name": "LayoutModel",
          "state": {
            "_view_name": "LayoutView",
            "grid_template_rows": null,
            "right": null,
            "justify_content": null,
            "_view_module": "@jupyter-widgets/base",
            "overflow": null,
            "_model_module_version": "1.2.0",
            "_view_count": null,
            "flex_flow": null,
            "width": null,
            "min_width": null,
            "border": null,
            "align_items": null,
            "bottom": null,
            "_model_module": "@jupyter-widgets/base",
            "top": null,
            "grid_column": null,
            "overflow_y": null,
            "overflow_x": null,
            "grid_auto_flow": null,
            "grid_area": null,
            "grid_template_columns": null,
            "flex": null,
            "_model_name": "LayoutModel",
            "justify_items": null,
            "grid_row": null,
            "max_height": null,
            "align_content": null,
            "visibility": null,
            "align_self": null,
            "height": null,
            "min_height": null,
            "padding": null,
            "grid_auto_rows": null,
            "grid_gap": null,
            "max_width": null,
            "order": null,
            "_view_module_version": "1.2.0",
            "grid_template_areas": null,
            "object_position": null,
            "object_fit": null,
            "grid_auto_columns": null,
            "margin": null,
            "display": null,
            "left": null
          }
        },
        "0c41627cf59d43d3a68ba5aa32b9145c": {
          "model_module": "@jupyter-widgets/controls",
          "model_name": "FloatProgressModel",
          "state": {
            "_view_name": "ProgressView",
            "style": "IPY_MODEL_d34fb40282de4aeeafd5a88cb279939a",
            "_dom_classes": [],
            "description": "100%",
            "_model_name": "FloatProgressModel",
            "bar_style": "success",
            "max": 42,
            "_view_module": "@jupyter-widgets/controls",
            "_model_module_version": "1.5.0",
            "value": 42,
            "_view_count": null,
            "_view_module_version": "1.5.0",
            "orientation": "horizontal",
            "min": 0,
            "description_tooltip": null,
            "_model_module": "@jupyter-widgets/controls",
            "layout": "IPY_MODEL_83d719978ae44544b8394ea9548355d0"
          }
        },
        "7d1cbf249d71402a89c91c3a87ac5b19": {
          "model_module": "@jupyter-widgets/controls",
          "model_name": "HTMLModel",
          "state": {
            "_view_name": "HTMLView",
            "style": "IPY_MODEL_484042f111f242e3bfd0056fdbf05b98",
            "_dom_classes": [],
            "description": "",
            "_model_name": "HTMLModel",
            "placeholder": "​",
            "_view_module": "@jupyter-widgets/controls",
            "_model_module_version": "1.5.0",
            "value": " 42/42 [00:04&lt;00:00,  8.70it/s]",
            "_view_count": null,
            "_view_module_version": "1.5.0",
            "description_tooltip": null,
            "_model_module": "@jupyter-widgets/controls",
            "layout": "IPY_MODEL_8159a60b0d304ad08bd34df39743e5d9"
          }
        },
        "d34fb40282de4aeeafd5a88cb279939a": {
          "model_module": "@jupyter-widgets/controls",
          "model_name": "ProgressStyleModel",
          "state": {
            "_view_name": "StyleView",
            "_model_name": "ProgressStyleModel",
            "description_width": "initial",
            "_view_module": "@jupyter-widgets/base",
            "_model_module_version": "1.5.0",
            "_view_count": null,
            "_view_module_version": "1.2.0",
            "bar_color": null,
            "_model_module": "@jupyter-widgets/controls"
          }
        },
        "83d719978ae44544b8394ea9548355d0": {
          "model_module": "@jupyter-widgets/base",
          "model_name": "LayoutModel",
          "state": {
            "_view_name": "LayoutView",
            "grid_template_rows": null,
            "right": null,
            "justify_content": null,
            "_view_module": "@jupyter-widgets/base",
            "overflow": null,
            "_model_module_version": "1.2.0",
            "_view_count": null,
            "flex_flow": null,
            "width": null,
            "min_width": null,
            "border": null,
            "align_items": null,
            "bottom": null,
            "_model_module": "@jupyter-widgets/base",
            "top": null,
            "grid_column": null,
            "overflow_y": null,
            "overflow_x": null,
            "grid_auto_flow": null,
            "grid_area": null,
            "grid_template_columns": null,
            "flex": null,
            "_model_name": "LayoutModel",
            "justify_items": null,
            "grid_row": null,
            "max_height": null,
            "align_content": null,
            "visibility": null,
            "align_self": null,
            "height": null,
            "min_height": null,
            "padding": null,
            "grid_auto_rows": null,
            "grid_gap": null,
            "max_width": null,
            "order": null,
            "_view_module_version": "1.2.0",
            "grid_template_areas": null,
            "object_position": null,
            "object_fit": null,
            "grid_auto_columns": null,
            "margin": null,
            "display": null,
            "left": null
          }
        },
        "484042f111f242e3bfd0056fdbf05b98": {
          "model_module": "@jupyter-widgets/controls",
          "model_name": "DescriptionStyleModel",
          "state": {
            "_view_name": "StyleView",
            "_model_name": "DescriptionStyleModel",
            "description_width": "",
            "_view_module": "@jupyter-widgets/base",
            "_model_module_version": "1.5.0",
            "_view_count": null,
            "_view_module_version": "1.2.0",
            "_model_module": "@jupyter-widgets/controls"
          }
        },
        "8159a60b0d304ad08bd34df39743e5d9": {
          "model_module": "@jupyter-widgets/base",
          "model_name": "LayoutModel",
          "state": {
            "_view_name": "LayoutView",
            "grid_template_rows": null,
            "right": null,
            "justify_content": null,
            "_view_module": "@jupyter-widgets/base",
            "overflow": null,
            "_model_module_version": "1.2.0",
            "_view_count": null,
            "flex_flow": null,
            "width": null,
            "min_width": null,
            "border": null,
            "align_items": null,
            "bottom": null,
            "_model_module": "@jupyter-widgets/base",
            "top": null,
            "grid_column": null,
            "overflow_y": null,
            "overflow_x": null,
            "grid_auto_flow": null,
            "grid_area": null,
            "grid_template_columns": null,
            "flex": null,
            "_model_name": "LayoutModel",
            "justify_items": null,
            "grid_row": null,
            "max_height": null,
            "align_content": null,
            "visibility": null,
            "align_self": null,
            "height": null,
            "min_height": null,
            "padding": null,
            "grid_auto_rows": null,
            "grid_gap": null,
            "max_width": null,
            "order": null,
            "_view_module_version": "1.2.0",
            "grid_template_areas": null,
            "object_position": null,
            "object_fit": null,
            "grid_auto_columns": null,
            "margin": null,
            "display": null,
            "left": null
          }
        }
      }
    }
  },
  "cells": [
    {
      "cell_type": "code",
      "metadata": {
        "colab": {
          "base_uri": "https://localhost:8080/"
        },
        "id": "xRX6UtPHNN6W",
        "outputId": "1080e124-b820-4036-9899-cf95922646bb"
      },
      "source": [
        "from google.colab import drive\r\n",
        "drive.mount('/content/drive')"
      ],
      "execution_count": null,
      "outputs": [
        {
          "output_type": "stream",
          "text": [
            "Mounted at /content/drive\n"
          ],
          "name": "stdout"
        }
      ]
    },
    {
      "cell_type": "code",
      "metadata": {
        "id": "fnkWo3_VNTzZ"
      },
      "source": [
        "!unzip \"/content/drive/My Drive/MVA/Medical Imagery/3md3070-dlmi.zip\" -d \"/data\""
      ],
      "execution_count": null,
      "outputs": []
    },
    {
      "cell_type": "code",
      "metadata": {
        "id": "P1KjKR9TQbsm"
      },
      "source": [
        "import os\r\n",
        "import torch\r\n",
        "import torch.nn as nn\r\n",
        "import torchvision.transforms as transforms\r\n",
        "import pandas as pd\r\n",
        "import numpy as np\r\n",
        "from PIL import Image\r\n",
        "from torch.utils.data import Dataset, DataLoader\r\n",
        "from tqdm.notebook import tqdm\r\n",
        "import matplotlib.pyplot as plt\r\n",
        "from torchsummary import summary\r\n",
        "from sklearn.metrics import f1_score, classification_report\r\n",
        "import torch.nn.functional as F"
      ],
      "execution_count": null,
      "outputs": []
    },
    {
      "cell_type": "code",
      "metadata": {
        "colab": {
          "base_uri": "https://localhost:8080/"
        },
        "id": "rXJc0JoJrM0-",
        "outputId": "b38e7659-ccfe-42d8-8ac6-485fbc6abcec"
      },
      "source": [
        "device = \"cuda\" if torch.cuda.is_available() else \"cpu\"\r\n",
        "print(device)"
      ],
      "execution_count": null,
      "outputs": [
        {
          "output_type": "stream",
          "text": [
            "cuda\n"
          ],
          "name": "stdout"
        }
      ]
    },
    {
      "cell_type": "markdown",
      "metadata": {
        "id": "c8cEqhChF0fL"
      },
      "source": [
        "# Definitition of datasets"
      ]
    },
    {
      "cell_type": "code",
      "metadata": {
        "id": "RbMfuLD4NkRU"
      },
      "source": [
        "class LymphocytosisDataset(Dataset):\r\n",
        "    # nb_img_fill represents the a common maximum for\r\n",
        "    nb_img_fill = 200\r\n",
        "\r\n",
        "    def __init__(\r\n",
        "        self,\r\n",
        "        annotation_csv: str = \"/data/clinical_annotation.csv\",\r\n",
        "        root_dir: str = \"/data\",\r\n",
        "        train: bool = True,\r\n",
        "        valid: bool = False,  # If we want the validation set. train must be set at True to get valiation set\r\n",
        "        train_split: float = 0.8,  # percentage we want in train (as opposed to valdation)\r\n",
        "        transform: callable = transforms.ToTensor(),\r\n",
        "        fill_img_list: bool = False,\r\n",
        "        split_label: bool = False,\r\n",
        "        convert_age: bool = True,\r\n",
        "        convert_gender: bool = True,\r\n",
        "    ) -> None:\r\n",
        "        \"\"\"\r\n",
        "        Loads Lymphocytosis data\r\n",
        "\r\n",
        "        Parameters\r\n",
        "        ----------\r\n",
        "        annotation_csv : str\r\n",
        "            Path to the csv file that contains annotation for every patient\r\n",
        "        root_dir : str\r\n",
        "            Directory with all the images\r\n",
        "        train : bool\r\n",
        "            Wether to use training images or not\r\n",
        "        transform : callable, optional\r\n",
        "            Optional transform to be applied on sample images, by default None\r\n",
        "        \"\"\"\r\n",
        "        ## Get the clinical annotation\r\n",
        "        self.annotation_frame = pd.read_csv(annotation_csv, index_col=0)\r\n",
        "        ## Identify training, validation, and testing ids\r\n",
        "        self.train_ids = list(\r\n",
        "            self.annotation_frame[\"ID\"][self.annotation_frame[\"LABEL\"] != -1]\r\n",
        "        )\r\n",
        "\r\n",
        "        self.valid_ids = self.train_ids[int(len(self.train_ids) * train_split) :]\r\n",
        "        self.train_ids = self.train_ids[: int(len(self.train_ids) * train_split)]\r\n",
        "\r\n",
        "        self.test_ids = list(\r\n",
        "            self.annotation_frame[\"ID\"][self.annotation_frame[\"LABEL\"] == -1]\r\n",
        "        )\r\n",
        "        ## Reindex the annotation to the \"ID\" column\r\n",
        "        self.annotation_frame = self.annotation_frame.set_index(\"ID\")\r\n",
        "        ## Handle \"DOB\" column\r\n",
        "        DOB = self.annotation_frame[\"DOB\"].copy()\r\n",
        "        line_with_slash = DOB.str.contains(\"/\")\r\n",
        "        DOB[line_with_slash] = pd.to_datetime(DOB[line_with_slash], format=\"%m/%d/%Y\")\r\n",
        "        DOB[~line_with_slash] = pd.to_datetime(DOB[~line_with_slash], format=\"%d-%m-%Y\")\r\n",
        "        self.annotation_frame[\"DOB\"] = pd.to_datetime(DOB)\r\n",
        "\r\n",
        "        ## Define instance attributes\r\n",
        "        self.root_dir = root_dir\r\n",
        "        self.train = train\r\n",
        "        self.valid = valid\r\n",
        "        self.transform = transform\r\n",
        "        self.fill_img_list = fill_img_list\r\n",
        "        self.split_label = split_label\r\n",
        "        self.convert_age = convert_age\r\n",
        "\r\n",
        "    def __len__(self) -> int:\r\n",
        "        if self.train:\r\n",
        "            if self.valid:\r\n",
        "                return len(self.valid_ids)\r\n",
        "            else:\r\n",
        "                return len(self.train_ids)\r\n",
        "        else:\r\n",
        "            return len(self.test_ids)\r\n",
        "\r\n",
        "    def __getitem__(self, index: int) -> tuple:\r\n",
        "        if self.train:\r\n",
        "            if self.valid:\r\n",
        "                id = self.valid_ids[index]\r\n",
        "            else:\r\n",
        "                id = self.train_ids[index]\r\n",
        "        else:\r\n",
        "            id = self.test_ids[index]\r\n",
        "        annotation = self.annotation_frame.loc[id]\r\n",
        "        if self.convert_age:\r\n",
        "            annotation[\"AGE\"] = (\r\n",
        "                pd.to_datetime(\"01-01-2021\") - annotation[\"DOB\"]\r\n",
        "            ).days / 365.25\r\n",
        "            annotation = annotation.drop(\"DOB\")\r\n",
        "        if self.convert_age:\r\n",
        "            annotation[\"GENDER\"] = 1 if annotation[\"GENDER\"] == \"M\" else 0\r\n",
        "        annotation = annotation.to_dict()\r\n",
        "        img_dir = f\"{self.root_dir}/{'train' if self.train else 'test'}set/{id}/\"\r\n",
        "        img_list = [\r\n",
        "            Image.open(os.path.join(img_dir, img_name))\r\n",
        "            for img_name in os.listdir(img_dir)\r\n",
        "        ]\r\n",
        "        if self.fill_img_list:\r\n",
        "            missing = self.nb_img_fill - len(img_list)\r\n",
        "            filling_indices = np.random.randint(len(img_list), size=missing)\r\n",
        "            for i in filling_indices:\r\n",
        "                img_list.append(img_list[i])\r\n",
        "        if self.transform is not None:\r\n",
        "            img_list = [self.transform(img) for img in img_list]\r\n",
        "            img_list = torch.stack(img_list)\r\n",
        "        if self.split_label:\r\n",
        "            # label = [0, 0]\r\n",
        "            # label[annotation[\"LABEL\"]] = 1\r\n",
        "            label = [annotation[\"LABEL\"]]\r\n",
        "            annotation.pop(\"LABEL\")\r\n",
        "\r\n",
        "            return annotation, img_list, label\r\n",
        "        return annotation, img_list\r\n",
        "\r\n",
        "\r\n",
        "class LymphocytosisImageDataset(Dataset):\r\n",
        "\r\n",
        "    def __init__(\r\n",
        "        self,\r\n",
        "        annotation_csv: str = \"/data/clinical_annotation.csv\",\r\n",
        "        root_dir: str = \"/data\",\r\n",
        "        train: bool = True,\r\n",
        "        valid: bool = False,\r\n",
        "        balance: str = \"oversample\",\r\n",
        "        transform: callable = transforms.ToTensor(),\r\n",
        "    ) -> None:\r\n",
        "        \"\"\"\r\n",
        "        Loads Lymphocytosis images one by one\r\n",
        "\r\n",
        "        Parameters\r\n",
        "        ----------\r\n",
        "        annotation_csv : str\r\n",
        "            Path to the csv file that contains annotation for every patient\r\n",
        "        root_dir : str\r\n",
        "            Directory with all the images\r\n",
        "        train : bool\r\n",
        "            Wether to use training images or not\r\n",
        "        transform : callable, optional\r\n",
        "            Optional transform to be applied on sample images, by default None\r\n",
        "        \"\"\"\r\n",
        "        ## Define instance attributes\r\n",
        "        self.root_dir = root_dir\r\n",
        "        self.train = train\r\n",
        "        self.valid = valid\r\n",
        "        self.transform = transform\r\n",
        "\r\n",
        "        ## Get the clinical annotation\r\n",
        "        self.annotation_frame = pd.read_csv(annotation_csv, index_col=0)\r\n",
        "        ## Identify training, and testing ids\r\n",
        "        if train:\r\n",
        "            self.ids = list(\r\n",
        "                self.annotation_frame[\"ID\"][self.annotation_frame[\"LABEL\"] != -1]\r\n",
        "            )\r\n",
        "            if valid:\r\n",
        "                self.ids = self.ids[int(0.8*len(self.ids)):]\r\n",
        "            else:\r\n",
        "                self.ids = self.ids[:int(0.8*len(self.ids))]\r\n",
        "        else:\r\n",
        "            self.ids = list(\r\n",
        "                self.annotation_frame[\"ID\"][self.annotation_frame[\"LABEL\"] == -1]\r\n",
        "            )\r\n",
        "        \r\n",
        "        ## Reindex the annotation to the \"ID\" column\r\n",
        "        self.annotation_frame = self.annotation_frame.set_index(\"ID\")\r\n",
        "\r\n",
        "        ## Retrieving the path of images for each id\r\n",
        "        path_dict = {\r\n",
        "            \"id\": [],\r\n",
        "            \"path\": [],\r\n",
        "            \"label\": [],\r\n",
        "        }\r\n",
        "        for id in self.ids:\r\n",
        "            img_dir = f\"{self.root_dir}/{'train' if self.train else 'test'}set/{id}/\"\r\n",
        "            img_path_list = os.listdir(img_dir)\r\n",
        "            path_dict[\"id\"].extend([id]*len(img_path_list))\r\n",
        "            path_dict[\"path\"].extend(img_path_list)\r\n",
        "            path_dict[\"label\"].extend([self.annotation_frame.loc[id][\"LABEL\"]]*len(img_path_list))\r\n",
        "        \r\n",
        "        self.path_df = pd.DataFrame(path_dict)\r\n",
        "        if balance == \"oversample\":\r\n",
        "            df_class_0 = self.path_df[self.path_df['label'] == 0]\r\n",
        "            df_class_1 = self.path_df[self.path_df['label'] == 1]\r\n",
        "            if len(df_class_0) > len(df_class_1):\r\n",
        "                df_class_0, df_class_1 = df_class_1, df_class_0\r\n",
        "            df_class_0_over = df_class_0.sample(len(df_class_1), replace=True)\r\n",
        "            self.path_df = pd.concat([df_class_0_over, df_class_1], axis=0)\r\n",
        "\r\n",
        "    def __len__(self) -> int:\r\n",
        "        return len(self.path_df)\r\n",
        "\r\n",
        "    def __getitem__(self, index: int) -> tuple:\r\n",
        "        item = self.path_df.iloc[index]\r\n",
        "        id, label, path = item[\"id\"], item[\"label\"], item[\"path\"]\r\n",
        "        img_path = f\"{self.root_dir}/{'train' if self.train else 'test'}set/{id}/{path}\"\r\n",
        "        img = Image.open(img_path)\r\n",
        "        if self.transform is not None:\r\n",
        "            img = self.transform(img)\r\n",
        "\r\n",
        "        return img, label"
      ],
      "execution_count": null,
      "outputs": []
    },
    {
      "cell_type": "code",
      "metadata": {
        "id": "OKY_33rsTpWk"
      },
      "source": [
        "transform_train = transforms.Compose([\r\n",
        "    transforms.CenterCrop(128),\r\n",
        "    transforms.Resize(32),\r\n",
        "    transforms.ToTensor()\r\n",
        "])\r\n",
        "img_train_dataset = LymphocytosisImageDataset(train=True, valid=False, balance=\"oversample\", transform=transform_train)\r\n",
        "img_val_dataset = LymphocytosisImageDataset(train=True, valid=True, balance=\"oversample\", transform=transform_train)\r\n",
        "img_test_dataset = LymphocytosisImageDataset(train=False, valid=False, balance=\"no\", transform=transform_train)\r\n",
        "\r\n",
        "lymphocytosis_train_dataset = LymphocytosisDataset(train=True, transform=transform_train, split_label=True)\r\n",
        "lymphocytosis_val_dataset = LymphocytosisDataset(train=True, valid=True, transform=transform_train, split_label=True)\r\n",
        "lymphocytosis_test_dataset = LymphocytosisDataset(train=False, valid=False, transform=transform_train, split_label=True)"
      ],
      "execution_count": null,
      "outputs": []
    },
    {
      "cell_type": "code",
      "metadata": {
        "colab": {
          "base_uri": "https://localhost:8080/",
          "height": 283
        },
        "id": "Cuavg5NgTzkS",
        "outputId": "53ec25da-ffc1-44fb-dfa6-9b51f981c39e"
      },
      "source": [
        "plt.imshow(img_train_dataset[30][0].permute(1,2,0))"
      ],
      "execution_count": null,
      "outputs": [
        {
          "output_type": "execute_result",
          "data": {
            "text/plain": [
              "<matplotlib.image.AxesImage at 0x7f37e017b690>"
            ]
          },
          "metadata": {
            "tags": []
          },
          "execution_count": 9
        },
        {
          "output_type": "display_data",
          "data": {
            "image/png": "[encoded data removed]",
            "text/plain": [
              "<Figure size 432x288 with 1 Axes>"
            ]
          },
          "metadata": {
            "tags": [],
            "needs_background": "light"
          }
        }
      ]
    },
    {
      "cell_type": "markdown",
      "metadata": {
        "id": "0pE9RY2uF9_c"
      },
      "source": [
        "# Autoencoder for Lymphocytosis images\r\n",
        "\r\n",
        "In the following cells, I define an autoencoder in order to have a model that understands the blood smears. However, it looks like it tends to forget more about about the lymphocyte and therefore, it can be assumed that it will not help that much for lymphocytosis prediction."
      ]
    },
    {
      "cell_type": "code",
      "metadata": {
        "id": "IZyBjXVDT0jh"
      },
      "source": [
        "def get_activation(activation_type):\r\n",
        "    # activation_type = activation_type.lower()\r\n",
        "    if hasattr(nn, activation_type):\r\n",
        "      return getattr(nn, activation_type)()\r\n",
        "    else:\r\n",
        "      return nn.ReLU()\r\n",
        "\r\n",
        "class ConvBatchNorm(nn.Module):\r\n",
        "    \"\"\"(convolution => [BN] => ReLU)\"\"\"  \r\n",
        "    def __init__(self, in_channels, out_channels, activation='ReLU'):\r\n",
        "        super(ConvBatchNorm, self).__init__()\r\n",
        "        self.conv = nn.Conv2d(in_channels, out_channels, 3, padding=1)\r\n",
        "        self.bn = nn.BatchNorm2d(out_channels)\r\n",
        "        self.activation = get_activation(activation)\r\n",
        "        \r\n",
        "    def forward(self, x):\r\n",
        "        x = self.conv(x)\r\n",
        "        x = self.bn(x)\r\n",
        "        return self.activation(x)\r\n",
        "\r\n",
        "def _make_nConv(in_channels, out_channels, nb_Conv, activation='ReLU'):\r\n",
        "    layers = []\r\n",
        "    layers.append(ConvBatchNorm(in_channels, out_channels, activation))\r\n",
        "    for _ in range(nb_Conv-1):\r\n",
        "        layers.append(ConvBatchNorm(out_channels, out_channels, activation))\r\n",
        "    return nn.Sequential(*layers)\r\n",
        "\r\n",
        "def _make_nDeConv(in_channels, out_channels, nb_Conv, activation='ReLU'):\r\n",
        "    layers = []\r\n",
        "    layers.append(nn.ConvTranspose2d(in_channels, out_channels, kernel_size=3, padding=1, stride=2, output_padding=1))\r\n",
        "    for _ in range(nb_Conv):\r\n",
        "        layers.append(ConvBatchNorm(out_channels, out_channels, activation))\r\n",
        "    return nn.Sequential(*layers)\r\n",
        "\r\n",
        "class DownBlock(nn.Module):\r\n",
        "    def __init__(self, in_channels, out_channels, nb_Conv=1, activation=\"ReLU\"):\r\n",
        "        super(DownBlock, self).__init__()\r\n",
        "        self.conv_bn = _make_nConv(in_channels, out_channels, nb_Conv, activation)\r\n",
        "        self.down = nn.MaxPool2d(2)\r\n",
        "        # self.down = nn.Conv2d(out_channels, out_channels, kernel_size=2, stride=2)\r\n",
        "    \r\n",
        "    def forward(self, x):\r\n",
        "        x = self.conv_bn(x)\r\n",
        "        x = self.down(x)\r\n",
        "        # print(x.shape)\r\n",
        "        return x\r\n",
        "\r\n",
        "class UpBlock(nn.Module):\r\n",
        "    def __init__(self, in_channels, out_channels, nb_Conv, activation=\"ReLU\"):\r\n",
        "        super(UpBlock, self).__init__()\r\n",
        "        # self.deconv_bn = _make_nDeConv(in_channels, out_channels, nb_Conv)\r\n",
        "        self.up = nn.Upsample(scale_factor=2)\r\n",
        "        self.conv_bn = _make_nConv(in_channels, out_channels, nb_Conv, activation)\r\n",
        "    \r\n",
        "    def forward(self, x):\r\n",
        "        x = self.up(x)\r\n",
        "        x = self.conv_bn(x)\r\n",
        "        return x\r\n",
        "\r\n",
        "class ConvAutoEncoder(nn.Module):\r\n",
        "    def __init__(self):\r\n",
        "        super(ConvAutoEncoder, self).__init__()\r\n",
        "        # Input (3, 224, 224)\r\n",
        "        self.encoder = nn.Sequential(\r\n",
        "            DownBlock(3, 64, 2), # Output (64, 112, 112)\r\n",
        "            DownBlock(64, 32, 2), # Output (32, 56, 56)\r\n",
        "            # DownBlock(32, 16, 2), # Output (16, 28, 28)\r\n",
        "            # DownBlock(16, 8, 2), # Output (8, 14, 14)\r\n",
        "        )\r\n",
        "        self.decoder = nn.Sequential(\r\n",
        "            # UpBlock(8, 16, 2), # Output (16, 28, 28)\r\n",
        "            # UpBlock(16, 32, 2), # Output (32, 56, 56)\r\n",
        "            UpBlock(32, 64, 2), # Output (64, 112, 112)\r\n",
        "            UpBlock(64, 3, 1), # Output (3, 224, 224)\r\n",
        "            nn.Conv2d(3, 3, kernel_size=3, padding=1),\r\n",
        "            nn.Sigmoid(),\r\n",
        "        )\r\n",
        "    \r\n",
        "    def forward(self, x):\r\n",
        "        encoded = self.encoder(x)\r\n",
        "        decoded = self.decoder(encoded)\r\n",
        "        return decoded"
      ],
      "execution_count": null,
      "outputs": []
    },
    {
      "cell_type": "code",
      "metadata": {
        "id": "-BzmH0kzqOpf"
      },
      "source": [
        "def train_autoencoder(model, optimizer, criterion, dataloader):\r\n",
        "    total_loss = 0\r\n",
        "    pbar = tqdm(dataloader)\r\n",
        "    for i, (imgs, labels) in enumerate(pbar):\r\n",
        "        imgs, labels = imgs.to(device), labels.to(device)\r\n",
        "        optimizer.zero_grad()\r\n",
        "        reconstruction = model(imgs)\r\n",
        "        loss = criterion(imgs, reconstruction)\r\n",
        "        loss.backward()\r\n",
        "        optimizer.step()\r\n",
        "        total_loss += loss\r\n",
        "        pbar.set_postfix({\"loss\": total_loss/(i+1)})\r\n"
      ],
      "execution_count": null,
      "outputs": []
    },
    {
      "cell_type": "code",
      "metadata": {
        "id": "1Ze15x4gXDaW"
      },
      "source": [
        "img_autoencoder_loader = DataLoader(img_train_dataset, batch_size=50)"
      ],
      "execution_count": null,
      "outputs": []
    },
    {
      "cell_type": "code",
      "metadata": {
        "id": "RoEVwajIX9eQ"
      },
      "source": [
        "model = ConvAutoEncoder().to(device)\r\n",
        "criterion = nn.L1Loss()\r\n",
        "optimizer = torch.optim.Adam(model.parameters())"
      ],
      "execution_count": null,
      "outputs": []
    },
    {
      "cell_type": "code",
      "metadata": {
        "colab": {
          "base_uri": "https://localhost:8080/",
          "height": 163,
          "referenced_widgets": [
            "01c987a757f045658ebf8aaa8e49e23f",
            "307727d70bc64a4db151052c1382bceb",
            "beb02899825842b5b2aeb168eaea8e8c",
            "313e3eec5f0b45f38d88f683c675b9ee",
            "e1b11710e6c94f96b01913c38046008b",
            "9d637070df6d4a3baa2593abb73ab867",
            "4f625d5f8c67496790ea17ccf15ab2ad",
            "f9e58f92f1504551a41f62a081144cfd",
            "67610264aa084f98b2f21e4c3efd6d14",
            "513bbecf7c1d461fad35d59b94c1287f",
            "235ef33b800c430198619c5d4e2468b6",
            "25ebc8d86dcb4220952775b28be28823",
            "075c3dfac67d4b29b29658bd817e933b",
            "5f27dda45a9049f8be2b9e3361266ef6",
            "b9ea27f689cb4abfaa04186f1f3ce098",
            "07d11d0e158b42ca94212c50c4b7c046",
            "c897a0c5aba34db0a61479d94a2b9696",
            "f64bc2e3cb374855b4a968cf2850c0c8",
            "3c9f44dff6fa454bbb805777cf0ffd0d",
            "81934d578c8d47bd84b826115a876776",
            "784dc4a8dd304c0d8cf71dee891255f0",
            "26441e1d4b0e43988fd830b448cf938f",
            "474cb92f88a34798a99f13a864cd882e",
            "ce787782758d4bd8bead6dacd97285cd"
          ]
        },
        "id": "xOmH9Owoq8QQ",
        "outputId": "b51e04e2-c670-436f-c7aa-cb345e917222"
      },
      "source": [
        "num_epochs = 3\r\n",
        "for epoch in range(num_epochs):\r\n",
        "    train_autoencoder(model, optimizer, criterion, img_autoencoder_loader)"
      ],
      "execution_count": null,
      "outputs": [
        {
          "output_type": "display_data",
          "data": {
            "application/vnd.jupyter.widget-view+json": {
              "model_id": "01c987a757f045658ebf8aaa8e49e23f",
              "version_minor": 0,
              "version_major": 2
            },
            "text/plain": [
              "HBox(children=(FloatProgress(value=0.0, max=387.0), HTML(value='')))"
            ]
          },
          "metadata": {
            "tags": []
          }
        },
        {
          "output_type": "stream",
          "text": [
            "\n"
          ],
          "name": "stdout"
        },
        {
          "output_type": "display_data",
          "data": {
            "application/vnd.jupyter.widget-view+json": {
              "model_id": "67610264aa084f98b2f21e4c3efd6d14",
              "version_minor": 0,
              "version_major": 2
            },
            "text/plain": [
              "HBox(children=(FloatProgress(value=0.0, max=387.0), HTML(value='')))"
            ]
          },
          "metadata": {
            "tags": []
          }
        },
        {
          "output_type": "stream",
          "text": [
            "\n"
          ],
          "name": "stdout"
        },
        {
          "output_type": "display_data",
          "data": {
            "application/vnd.jupyter.widget-view+json": {
              "model_id": "c897a0c5aba34db0a61479d94a2b9696",
              "version_minor": 0,
              "version_major": 2
            },
            "text/plain": [
              "HBox(children=(FloatProgress(value=0.0, max=387.0), HTML(value='')))"
            ]
          },
          "metadata": {
            "tags": []
          }
        },
        {
          "output_type": "stream",
          "text": [
            "\n"
          ],
          "name": "stdout"
        }
      ]
    },
    {
      "cell_type": "code",
      "metadata": {
        "colab": {
          "base_uri": "https://localhost:8080/",
          "height": 219
        },
        "id": "UeQaPJTXrAJj",
        "outputId": "c4533f32-99e2-4b35-c34f-873a9790f89f"
      },
      "source": [
        "img = img_train_dataset[20][0].to(device)\r\n",
        "generated = model(img.unsqueeze(0))[0]\r\n",
        "fig, (ax1, ax2) = plt.subplots(ncols=2)\r\n",
        "ax1.imshow(img.cpu().permute(1,2,0))\r\n",
        "ax2.imshow(generated.cpu().detach().permute(1,2,0))"
      ],
      "execution_count": null,
      "outputs": [
        {
          "output_type": "execute_result",
          "data": {
            "text/plain": [
              "<matplotlib.image.AxesImage at 0x7ff2c6285810>"
            ]
          },
          "metadata": {
            "tags": []
          },
          "execution_count": 79
        },
        {
          "output_type": "display_data",
          "data": {
            "image/png": "[encoded data removed]",
            "text/plain": [
              "<Figure size 432x288 with 2 Axes>"
            ]
          },
          "metadata": {
            "tags": [],
            "needs_background": "light"
          }
        }
      ]
    },
    {
      "cell_type": "code",
      "metadata": {
        "colab": {
          "base_uri": "https://localhost:8080/",
          "height": 366
        },
        "id": "xU3OaMf3s_MA",
        "outputId": "6c1f0fa1-f968-45f6-c6a1-c32f6eb6f49d"
      },
      "source": [
        "plt.hist(generated.flatten().cpu().detach())"
      ],
      "execution_count": null,
      "outputs": [
        {
          "output_type": "execute_result",
          "data": {
            "text/plain": [
              "(array([ 1598.,   486.,   796.,  1363.,  4622., 15439., 29500., 39740.,\n",
              "        29918., 27066.]),\n",
              " array([0.04091498, 0.13611245, 0.2313099 , 0.3265074 , 0.42170486,\n",
              "        0.5169023 , 0.61209977, 0.70729727, 0.8024947 , 0.8976922 ,\n",
              "        0.99288964], dtype=float32),\n",
              " <a list of 10 Patch objects>)"
            ]
          },
          "metadata": {
            "tags": []
          },
          "execution_count": 12
        },
        {
          "output_type": "display_data",
          "data": {
            "image/png": "[encoded data removed]",
            "text/plain": [
              "<Figure size 432x288 with 1 Axes>"
            ]
          },
          "metadata": {
            "tags": [],
            "needs_background": "light"
          }
        }
      ]
    },
    {
      "cell_type": "markdown",
      "metadata": {
        "id": "KIU_VO-PH8vZ"
      },
      "source": [
        "# Prediction image by image\r\n",
        "Another approach is to predict image by image with a simple model.\r\n",
        "We can use transfer learning for this task."
      ]
    },
    {
      "cell_type": "code",
      "metadata": {
        "id": "CIXxd1BVuuA7"
      },
      "source": [
        "import torchvision.models as models"
      ],
      "execution_count": null,
      "outputs": []
    },
    {
      "cell_type": "code",
      "metadata": {
        "id": "xOeOS1eqI8hT"
      },
      "source": [
        "def train_classification(model, optimizer, criterion, dataloader):\r\n",
        "    model.train()\r\n",
        "    train_loss = 0\r\n",
        "    correct = 0\r\n",
        "    total = 0\r\n",
        "    batch_pbar = tqdm(dataloader)\r\n",
        "    for batch_idx, (imgs, labels) in enumerate(batch_pbar):\r\n",
        "        imgs, labels = imgs.to(device), labels.to(device)\r\n",
        "        optimizer.zero_grad()\r\n",
        "        outputs = model(imgs)\r\n",
        "        loss = criterion(outputs, labels)\r\n",
        "        loss.backward()\r\n",
        "        optimizer.step()\r\n",
        "\r\n",
        "        train_loss += loss.item()\r\n",
        "        _, predicted = outputs.max(1)\r\n",
        "        total += labels.size(0)\r\n",
        "        correct += predicted.eq(labels).sum().item()\r\n",
        "        batch_pbar.set_postfix({\"Loss\": f\"{train_loss/(batch_idx+1):.3f}\", \"Acc\": f\"{100.*correct/total:.3f}% ({correct}/{total})\"})\r\n",
        "\r\n",
        "def test_classification(model, dataloader, prediction_threshold=0.):\r\n",
        "    model.eval()\r\n",
        "    batch_pbar = tqdm(dataloader)\r\n",
        "    all_labels = []\r\n",
        "    all_predictions = []\r\n",
        "    all_confidence = []\r\n",
        "    for batch_idx, (imgs, labels) in enumerate(batch_pbar):\r\n",
        "        imgs, labels = imgs.to(device), labels.to(device)\r\n",
        "        outputs = model(imgs).cpu()\r\n",
        "\r\n",
        "        confidence = (outputs[:,0] - outputs[:,1]).abs()\r\n",
        "        mask = (confidence > prediction_threshold).int()\r\n",
        "\r\n",
        "        predicted = outputs.max(1)[1]* mask + -1*(1-mask)\r\n",
        "\r\n",
        "        all_labels.append(labels.cpu())\r\n",
        "        all_predictions.append(predicted)\r\n",
        "        all_confidence.append(confidence)\r\n",
        "    return torch.cat(all_labels), torch.cat(all_predictions), torch.cat(all_confidence)"
      ],
      "execution_count": null,
      "outputs": []
    },
    {
      "cell_type": "code",
      "metadata": {
        "id": "6yUoGd2VJLG1"
      },
      "source": [
        "model_classification = models.resnet18(pretrained=False).to(device)\r\n",
        "num_features = model_classification.fc.in_features\r\n",
        "model_classification.fc = nn.Sequential(\r\n",
        "    nn.Linear(num_features, 10),\r\n",
        "    nn.LeakyReLU(),\r\n",
        "    nn.Linear(10, 2),\r\n",
        ").to(device)\r\n",
        "criterion_classification = nn.CrossEntropyLoss()\r\n",
        "optimizer_classification = torch.optim.Adam(model_classification.parameters(), lr=1e-3)\r\n",
        "img_train_classification_loader = DataLoader(img_train_dataset, batch_size=100, shuffle=True)\r\n",
        "img_val_classification_loader = DataLoader(img_val_dataset, batch_size=10, shuffle=False)\r\n",
        "num_epochs = 3"
      ],
      "execution_count": null,
      "outputs": []
    },
    {
      "cell_type": "code",
      "metadata": {
        "id": "q08ZoKc4Lmra"
      },
      "source": [
        "summary(model_classification, (3, 32, 32))"
      ],
      "execution_count": null,
      "outputs": []
    },
    {
      "cell_type": "code",
      "metadata": {
        "colab": {
          "base_uri": "https://localhost:8080/",
          "height": 163,
          "referenced_widgets": [
            "5f3dfb8bd51d48cc84d61a791457bf7e",
            "6fb8b05ae2b342158c2e63bdefec4fa8",
            "e91dfe23e1f74c27905d8fc37a401c5c",
            "f8de75a19d254807b2fdc85ae8056169",
            "0195610047de4737885b959787a13c32",
            "452ff7cb9b2e4514a053ab101115bce1",
            "096b8a7035c7422d98f98b2f4349e834",
            "a6162a320e65411080a263162cf51ac6",
            "6ea17838fa504486ae563bd4cca21069",
            "88113edc7435407a946b5da41239fc6c",
            "dcb7009e87e9481caa9708d03ee509c4",
            "45d6df419c624dc5aea1a50c4a0ff71c",
            "c3a857e4848542bf8bf0ae32603ef086",
            "e4412b82418047238b4b9a66a1157664",
            "ad83e908aa304513a0ac4668c62396f8",
            "f160a0116cb148e693519c25267c1260",
            "b1011e2702e348589383d542466cf1c1",
            "78f41673b0444135923c767187a70a69",
            "297f42ad1db84f8f957947f3179c7663",
            "1b11bf75bea145c7ad2b2cd6f21718f4",
            "00a27d4cf0b7406585446ab45fde70cc",
            "8c6cd1f1fded42e69363157f65ebe304",
            "677254c783ac44f29259cbdb5ae6c188",
            "c884dcfd546549408549964cc878f9ac"
          ]
        },
        "id": "UFWanEfyKqEe",
        "outputId": "f389f535-fbcc-48aa-92d2-ed6fb833885d"
      },
      "source": [
        "for epoch in range(num_epochs):\r\n",
        "    train_classification(model_classification, optimizer_classification, criterion_classification, img_train_classification_loader)"
      ],
      "execution_count": null,
      "outputs": [
        {
          "output_type": "display_data",
          "data": {
            "application/vnd.jupyter.widget-view+json": {
              "model_id": "5f3dfb8bd51d48cc84d61a791457bf7e",
              "version_minor": 0,
              "version_major": 2
            },
            "text/plain": [
              "HBox(children=(FloatProgress(value=0.0, max=194.0), HTML(value='')))"
            ]
          },
          "metadata": {
            "tags": []
          }
        },
        {
          "output_type": "stream",
          "text": [
            "\n"
          ],
          "name": "stdout"
        },
        {
          "output_type": "display_data",
          "data": {
            "application/vnd.jupyter.widget-view+json": {
              "model_id": "6ea17838fa504486ae563bd4cca21069",
              "version_minor": 0,
              "version_major": 2
            },
            "text/plain": [
              "HBox(children=(FloatProgress(value=0.0, max=194.0), HTML(value='')))"
            ]
          },
          "metadata": {
            "tags": []
          }
        },
        {
          "output_type": "stream",
          "text": [
            "\n"
          ],
          "name": "stdout"
        },
        {
          "output_type": "display_data",
          "data": {
            "application/vnd.jupyter.widget-view+json": {
              "model_id": "b1011e2702e348589383d542466cf1c1",
              "version_minor": 0,
              "version_major": 2
            },
            "text/plain": [
              "HBox(children=(FloatProgress(value=0.0, max=194.0), HTML(value='')))"
            ]
          },
          "metadata": {
            "tags": []
          }
        },
        {
          "output_type": "stream",
          "text": [
            "\n"
          ],
          "name": "stdout"
        }
      ]
    },
    {
      "cell_type": "code",
      "metadata": {
        "colab": {
          "base_uri": "https://localhost:8080/",
          "height": 66,
          "referenced_widgets": [
            "7565fbb0d8fc4598bd2e66e34279f1ea",
            "0bbfb1a7940a452ca226069c4bed6ec8",
            "9ddb72455fd54570b1013aad70b0454a",
            "4bbc8bc671354cf3827d15a4fdabe35a",
            "f67f858e606b4a1885077dea67a91647",
            "a97e0fbd13734db1b351e8bd3fb931c7",
            "7b388073864a47e4ab7428af358d8a23",
            "c1a2207b1fd743509d4c3545bfbe7750"
          ]
        },
        "id": "bpeXoPd9Ud60",
        "outputId": "7f9b832f-7428-4b6c-8bcb-d8853b60d054"
      },
      "source": [
        "labels, predictions, confidence = test_classification(model_classification, img_val_classification_loader, prediction_threshold=2.)"
      ],
      "execution_count": null,
      "outputs": [
        {
          "output_type": "display_data",
          "data": {
            "application/vnd.jupyter.widget-view+json": {
              "model_id": "7565fbb0d8fc4598bd2e66e34279f1ea",
              "version_minor": 0,
              "version_major": 2
            },
            "text/plain": [
              "HBox(children=(FloatProgress(value=0.0, max=238.0), HTML(value='')))"
            ]
          },
          "metadata": {
            "tags": []
          }
        },
        {
          "output_type": "stream",
          "text": [
            "\n"
          ],
          "name": "stdout"
        }
      ]
    },
    {
      "cell_type": "code",
      "metadata": {
        "colab": {
          "base_uri": "https://localhost:8080/"
        },
        "id": "vavQkmgtYhoB",
        "outputId": "1c00c174-6d8f-4007-8def-1c7adf9f6470"
      },
      "source": [
        "mask_confidence = predictions > -1\r\n",
        "# f1_score(1-labels[mask_confidence].cpu(), 1-predictions[mask_confidence].cpu())\r\n",
        "print(classification_report(labels[mask_confidence].cpu(), predictions[mask_confidence].cpu()))"
      ],
      "execution_count": null,
      "outputs": [
        {
          "output_type": "stream",
          "text": [
            "              precision    recall  f1-score   support\n",
            "\n",
            "           0       0.65      0.98      0.78       777\n",
            "           1       0.78      0.14      0.23       478\n",
            "\n",
            "    accuracy                           0.66      1255\n",
            "   macro avg       0.72      0.56      0.51      1255\n",
            "weighted avg       0.70      0.66      0.57      1255\n",
            "\n"
          ],
          "name": "stdout"
        }
      ]
    },
    {
      "cell_type": "code",
      "metadata": {
        "colab": {
          "base_uri": "https://localhost:8080/",
          "height": 35
        },
        "id": "ARfRfUAzBZkg",
        "outputId": "e1fc54f8-0a60-4694-9792-b83f849b6df0"
      },
      "source": [
        "% pwd"
      ],
      "execution_count": null,
      "outputs": [
        {
          "output_type": "execute_result",
          "data": {
            "application/vnd.google.colaboratory.intrinsic+json": {
              "type": "string"
            },
            "text/plain": [
              "'/content'"
            ]
          },
          "metadata": {
            "tags": []
          },
          "execution_count": 112
        }
      ]
    },
    {
      "cell_type": "code",
      "metadata": {
        "id": "yNmBg-gaBTYo"
      },
      "source": [
        "torch.save(model_classification, \"model_classification.pth\")"
      ],
      "execution_count": null,
      "outputs": []
    },
    {
      "cell_type": "code",
      "metadata": {
        "id": "HNfPQdqpBqZj"
      },
      "source": [
        "model_classification = torch.load(\"model_classification.pth\")"
      ],
      "execution_count": null,
      "outputs": []
    },
    {
      "cell_type": "code",
      "metadata": {
        "colab": {
          "base_uri": "https://localhost:8080/"
        },
        "id": "j9STXe0dLqtg",
        "outputId": "8acff3b6-ea68-4890-cb5e-49c017c214d6"
      },
      "source": [
        "print(confidence.argsort(descending=True)[:10])\r\n",
        "print(confidence[confidence.argsort(descending=True)][:10])\r\n",
        "print(labels[confidence.argsort(descending=True)][:10])"
      ],
      "execution_count": null,
      "outputs": [
        {
          "output_type": "stream",
          "text": [
            "tensor([ 420,  712, 1706,  842,  600, 1137,  188, 1093, 1066,  838])\n",
            "tensor([6.3950, 6.3950, 6.1782, 5.8103, 5.7337, 5.6825, 5.6825, 5.6825, 5.6275,\n",
            "        5.6275], grad_fn=<SliceBackward>)\n",
            "tensor([0, 0, 1, 0, 0, 0, 0, 0, 0, 0])\n"
          ],
          "name": "stdout"
        }
      ]
    },
    {
      "cell_type": "code",
      "metadata": {
        "colab": {
          "base_uri": "https://localhost:8080/",
          "height": 283
        },
        "id": "x1B8EJUxMM_P",
        "outputId": "b3f3ea81-216f-40ca-d623-44398c5bd5e6"
      },
      "source": [
        "plt.imshow(img_val_dataset[1706][0].permute(1,2,0))"
      ],
      "execution_count": null,
      "outputs": [
        {
          "output_type": "execute_result",
          "data": {
            "text/plain": [
              "<matplotlib.image.AxesImage at 0x7f86ac7920d0>"
            ]
          },
          "metadata": {
            "tags": []
          },
          "execution_count": 98
        },
        {
          "output_type": "display_data",
          "data": {
            "image/png": "[encoded data removed]",
            "text/plain": [
              "<Figure size 432x288 with 1 Axes>"
            ]
          },
          "metadata": {
            "tags": [],
            "needs_background": "light"
          }
        }
      ]
    },
    {
      "cell_type": "code",
      "metadata": {
        "colab": {
          "base_uri": "https://localhost:8080/"
        },
        "id": "DacckoZKPuWm",
        "outputId": "f39a18c2-c955-472d-e1df-cb7764dfdcfe"
      },
      "source": [
        "predictions.unique(return_counts=True)"
      ],
      "execution_count": null,
      "outputs": [
        {
          "output_type": "execute_result",
          "data": {
            "text/plain": [
              "(tensor([-1,  0,  1]), tensor([1057, 1315,    2]))"
            ]
          },
          "metadata": {
            "tags": []
          },
          "execution_count": 107
        }
      ]
    },
    {
      "cell_type": "code",
      "metadata": {
        "id": "j2sXfloeK5Wd"
      },
      "source": [
        "(imgs_batch, labels_batch) = next(iter(img_val_classification_loader))"
      ],
      "execution_count": null,
      "outputs": []
    },
    {
      "cell_type": "code",
      "metadata": {
        "colab": {
          "base_uri": "https://localhost:8080/"
        },
        "id": "xx3yhMAMPemv",
        "outputId": "48044904-1297-437b-fe9f-9bd2010d14a5"
      },
      "source": [
        "outputs_batch = model_classification(imgs_batch.to(device))\r\n",
        "outputs_batch"
      ],
      "execution_count": null,
      "outputs": [
        {
          "output_type": "execute_result",
          "data": {
            "text/plain": [
              "tensor([[ 2.5144, -0.5572],\n",
              "        [ 2.2145, -0.1630],\n",
              "        [ 3.6727, -1.5586],\n",
              "        [ 1.0405, -0.0661],\n",
              "        [ 2.3056, -0.1760],\n",
              "        [ 3.0803, -0.8553],\n",
              "        [ 3.0701, -0.2677],\n",
              "        [ 3.3830, -0.3144],\n",
              "        [ 0.3918,  2.0654],\n",
              "        [ 2.9383, -0.2764]], device='cuda:0', grad_fn=<AddmmBackward>)"
            ]
          },
          "metadata": {
            "tags": []
          },
          "execution_count": 95
        }
      ]
    },
    {
      "cell_type": "code",
      "metadata": {
        "colab": {
          "base_uri": "https://localhost:8080/"
        },
        "id": "qtG85y52zCgH",
        "outputId": "3b6500a5-f8ec-4715-fb3d-932906af8b40"
      },
      "source": [
        "image_features"
      ],
      "execution_count": null,
      "outputs": [
        {
          "output_type": "execute_result",
          "data": {
            "text/plain": [
              "tensor([[-2.6745e+00,  1.6467e+00, -3.2823e-01,  1.5388e+01, -1.6697e-02,\n",
              "         -1.9276e+00, -3.8355e+00, -3.2458e+00, -5.0571e-01, -1.4163e+00],\n",
              "        [-7.8509e-01, -1.9101e+00, -2.0625e-01,  1.5143e+01,  1.1333e-01,\n",
              "         -2.0850e+00, -2.1098e+00, -1.9906e+00, -4.2100e-01, -7.5462e-01],\n",
              "        [-4.8618e+00,  5.8649e+00, -6.7394e-01,  1.8559e+01, -2.2071e-01,\n",
              "         -1.8535e+00, -6.5100e+00, -5.5706e+00, -1.0529e+00, -2.2049e+00],\n",
              "        [-1.0009e+00,  1.8263e-01, -1.9646e-01,  6.4282e+00,  7.9963e-03,\n",
              "         -7.6740e-01, -9.2587e-01, -1.0461e+00, -1.3969e-01, -5.7626e-01],\n",
              "        [-2.2472e-01, -2.3929e+00, -1.7622e-01,  1.5821e+01,  1.1237e-01,\n",
              "         -2.3041e+00, -2.2370e+00, -2.0411e+00, -4.7098e-01, -8.1026e-01],\n",
              "        [-3.6264e+00,  2.7616e+00, -4.4874e-01,  1.8127e+01, -5.9127e-02,\n",
              "         -2.0471e+00, -4.9895e+00, -4.2259e+00, -7.2773e-01, -1.6329e+00],\n",
              "        [-6.9057e-01, -2.9749e+00, -2.3280e-01,  2.1380e+01,  1.5157e-01,\n",
              "         -3.0737e+00, -3.1185e+00, -3.1034e+00, -7.0484e-01, -1.0030e+00],\n",
              "        [-2.6733e+00, -1.0850e+00, -3.2232e-01,  2.3683e+01,  1.1989e-01,\n",
              "         -3.0105e+00, -4.2678e+00, -3.9762e+00, -7.2931e-01, -1.2837e+00],\n",
              "        [-1.5505e+00, -1.4923e+00, -3.5453e-01, -9.9626e-01, -2.9349e-02,\n",
              "          3.2735e+00,  2.4423e+00, -1.8594e+00, -9.2330e-01,  2.8604e+00],\n",
              "        [-2.7344e+00,  4.3229e-02, -3.2170e-01,  2.0427e+01,  6.8582e-02,\n",
              "         -2.5733e+00, -4.1591e+00, -3.6947e+00, -6.5435e-01, -1.3329e+00]],\n",
              "       device='cuda:0', grad_fn=<AddmmBackward>)"
            ]
          },
          "metadata": {
            "tags": []
          },
          "execution_count": 25
        }
      ]
    },
    {
      "cell_type": "code",
      "metadata": {
        "colab": {
          "base_uri": "https://localhost:8080/"
        },
        "id": "spTUAMkkFV8Q",
        "outputId": "216fde1a-4412-4147-ad29-d224121a473c"
      },
      "source": [
        "(outputs_batch[:,0] - outputs_batch[:,1]).abs()"
      ],
      "execution_count": null,
      "outputs": [
        {
          "output_type": "execute_result",
          "data": {
            "text/plain": [
              "tensor([4.1507, 2.5025, 3.4444, 3.5809, 3.2955, 3.3554, 2.0405, 3.1907, 2.6242,\n",
              "        4.1436], device='cuda:0', grad_fn=<AbsBackward>)"
            ]
          },
          "metadata": {
            "tags": []
          },
          "execution_count": 194
        }
      ]
    },
    {
      "cell_type": "code",
      "metadata": {
        "colab": {
          "base_uri": "https://localhost:8080/"
        },
        "id": "7gQzx2bpZdH_",
        "outputId": "f695b61d-834b-47e0-b9c8-c6c3edc36f8e"
      },
      "source": [
        "F.softmax(outputs_batch)"
      ],
      "execution_count": null,
      "outputs": [
        {
          "output_type": "stream",
          "text": [
            "/usr/local/lib/python3.7/dist-packages/ipykernel_launcher.py:1: UserWarning: Implicit dimension choice for softmax has been deprecated. Change the call to include dim=X as an argument.\n",
            "  \"\"\"Entry point for launching an IPython kernel.\n"
          ],
          "name": "stderr"
        },
        {
          "output_type": "execute_result",
          "data": {
            "text/plain": [
              "tensor([[0.3937, 0.6063],\n",
              "        [0.0679, 0.9321],\n",
              "        [0.4778, 0.5222],\n",
              "        [0.3235, 0.6765],\n",
              "        [0.1877, 0.8123],\n",
              "        [0.2809, 0.7191],\n",
              "        [0.0398, 0.9602],\n",
              "        [0.2103, 0.7897],\n",
              "        [0.1131, 0.8869],\n",
              "        [0.3387, 0.6613]], device='cuda:0', grad_fn=<SoftmaxBackward>)"
            ]
          },
          "metadata": {
            "tags": []
          },
          "execution_count": 163
        }
      ]
    },
    {
      "cell_type": "markdown",
      "metadata": {
        "id": "0ot5WmAxREyT"
      },
      "source": [
        "# Final model with selection of most meaningful images\r\n",
        "\r\n",
        "Now that we have a model that is trained to predict 0 or 1 for a single image, we will use the images that the model is most certain about in order to do the final prediction."
      ]
    },
    {
      "cell_type": "code",
      "metadata": {
        "id": "PNyQzfZMyrXa"
      },
      "source": [
        "image_features = None\r\n",
        "    \r\n",
        "def extract_image_features(model, input, output, *args):\r\n",
        "    global image_features\r\n",
        "    image_features = output\r\n",
        "\r\n",
        "# model_classification.fc[0].register_forward_hook(extract_image_features)"
      ],
      "execution_count": null,
      "outputs": []
    },
    {
      "cell_type": "code",
      "metadata": {
        "id": "mcGq4EDEi0_Y"
      },
      "source": [
        "class MeaningfulDataset(Dataset):\r\n",
        "    def __init__(self, lymphocytosis_dataset, single_image_model, feature_layer, meaningful_nb = 10):\r\n",
        "        self.lymphocytosis_dataset = lymphocytosis_dataset\r\n",
        "        self.single_image_model = single_image_model\r\n",
        "        feature_layer.register_forward_hook(extract_image_features)\r\n",
        "        self.meaningful_nb = meaningful_nb\r\n",
        "    \r\n",
        "    def __len__(self):\r\n",
        "        return len(self.lymphocytosis_dataset)\r\n",
        "    \r\n",
        "    def __getitem__(self, index):\r\n",
        "        global image_features\r\n",
        "        annotation, bag, label = self.lymphocytosis_dataset[index]\r\n",
        "        bag_output = self.single_image_model(bag.to(device))\r\n",
        "        bag_confidence = (bag_output[:,0] - bag_output[:,1]).abs()\r\n",
        "        most_meaningful_indices = bag_confidence.argsort()[:self.meaningful_nb]\r\n",
        "        most_meaningful_images = bag[most_meaningful_indices]\r\n",
        "        self.single_image_model(most_meaningful_images.to(device))\r\n",
        "        return annotation, image_features.flatten(), label"
      ],
      "execution_count": null,
      "outputs": []
    },
    {
      "cell_type": "code",
      "metadata": {
        "id": "qDHlRTuJUaMY"
      },
      "source": [
        "meaningful_train = MeaningfulDataset(lymphocytosis_train_dataset, model_classification, model_classification.fc[0])\r\n",
        "meaningful_val = MeaningfulDataset(lymphocytosis_val_dataset, model_classification, model_classification.fc[0])\r\n",
        "meaningful_test = MeaningfulDataset(lymphocytosis_test_dataset, model_classification, model_classification.fc[0])"
      ],
      "execution_count": null,
      "outputs": []
    },
    {
      "cell_type": "code",
      "metadata": {
        "id": "5mFdNLTQV3qN"
      },
      "source": [
        "def construct_dataframe(dataset):\r\n",
        "    records = {\r\n",
        "        \"GENDER\": [],\r\n",
        "        \"LYMPH_COUNT\": [],\r\n",
        "        \"AGE\": [],\r\n",
        "        \"IMAGE_FEATURES\": [],\r\n",
        "        \"LABEL\": [],\r\n",
        "    }\r\n",
        "    for annotation, image_features, label in tqdm(dataset):\r\n",
        "        records[\"GENDER\"].append(annotation[\"GENDER\"])\r\n",
        "        records[\"LYMPH_COUNT\"].append(annotation[\"LYMPH_COUNT\"])\r\n",
        "        records[\"AGE\"].append(annotation[\"AGE\"])\r\n",
        "        records[\"IMAGE_FEATURES\"].append(list(image_features.cpu().data.numpy()))\r\n",
        "        records[\"LABEL\"].append(label[0])\r\n",
        "\r\n",
        "    df = pd.DataFrame(records)\r\n",
        "    df_image_features = df[\"IMAGE_FEATURES\"].apply(pd.Series)\r\n",
        "    final_df = pd.concat((df, df_image_features), axis=1).drop(columns=[\"IMAGE_FEATURES\"])\r\n",
        "    return final_df"
      ],
      "execution_count": null,
      "outputs": []
    },
    {
      "cell_type": "code",
      "metadata": {
        "colab": {
          "base_uri": "https://localhost:8080/",
          "height": 314,
          "referenced_widgets": [
            "96dd14c0284f4d7bb45b2780471e491b",
            "ce22d49a0b6a41d08cf83d22d7da1c1e",
            "9f40b41a1b904b7dbc6c79cbf4dd2d45",
            "2717a00581464fe5b53c07f98e1c2c67",
            "1986fc6b4f144a4fb2ea53392b89e8fa",
            "a739dfb6ae774e839f0f617b05cef88a",
            "28ab774f29194bc19b8dab738eb89c2f",
            "c18d8413d8314eca89cf8d1179d12ef1",
            "80dfd1772c9741a1aaf8e4cfaf33141c",
            "02d1767a4d134af4bf3194d47ec78d91",
            "08f855d6aa2a4a869cdccfead8e5e91f",
            "3e25303540d04608953fe18fcb94b5bb",
            "5056e4361fb94ea9879c6a89a25ae946",
            "68e530e8de3940f490f7a20a9b5820ba",
            "5bde6c849fe540949915f519e9fd50fa",
            "409cf859412046a197ca1c70b38245e7",
            "6a736a6b0f5845cc8852cbc9d4031c8b",
            "4be6c12e1df346d1a74ab87200d0ff78",
            "0c41627cf59d43d3a68ba5aa32b9145c",
            "7d1cbf249d71402a89c91c3a87ac5b19",
            "d34fb40282de4aeeafd5a88cb279939a",
            "83d719978ae44544b8394ea9548355d0",
            "484042f111f242e3bfd0056fdbf05b98",
            "8159a60b0d304ad08bd34df39743e5d9"
          ]
        },
        "id": "YBJDXjmYzx30",
        "outputId": "0e4a7682-b302-493b-8f47-097d471e44f1"
      },
      "source": [
        "meaningful_train_df = construct_dataframe(meaningful_train)\r\n",
        "meaningful_val_df = construct_dataframe(meaningful_val)\r\n",
        "meaningful_test_df = construct_dataframe(meaningful_test)"
      ],
      "execution_count": null,
      "outputs": [
        {
          "output_type": "display_data",
          "data": {
            "application/vnd.jupyter.widget-view+json": {
              "model_id": "96dd14c0284f4d7bb45b2780471e491b",
              "version_minor": 0,
              "version_major": 2
            },
            "text/plain": [
              "HBox(children=(FloatProgress(value=0.0, max=130.0), HTML(value='')))"
            ]
          },
          "metadata": {
            "tags": []
          }
        },
        {
          "output_type": "stream",
          "text": [
            "/usr/local/lib/python3.7/dist-packages/ipykernel_launcher.py:84: SettingWithCopyWarning: \n",
            "A value is trying to be set on a copy of a slice from a DataFrame\n",
            "\n",
            "See the caveats in the documentation: https://pandas.pydata.org/pandas-docs/stable/user_guide/indexing.html#returning-a-view-versus-a-copy\n",
            "/usr/local/lib/python3.7/dist-packages/pandas/core/indexing.py:670: SettingWithCopyWarning: \n",
            "A value is trying to be set on a copy of a slice from a DataFrame\n",
            "\n",
            "See the caveats in the documentation: https://pandas.pydata.org/pandas-docs/stable/user_guide/indexing.html#returning-a-view-versus-a-copy\n",
            "  iloc._setitem_with_indexer(indexer, value)\n"
          ],
          "name": "stderr"
        },
        {
          "output_type": "stream",
          "text": [
            "\n"
          ],
          "name": "stdout"
        },
        {
          "output_type": "display_data",
          "data": {
            "application/vnd.jupyter.widget-view+json": {
              "model_id": "80dfd1772c9741a1aaf8e4cfaf33141c",
              "version_minor": 0,
              "version_major": 2
            },
            "text/plain": [
              "HBox(children=(FloatProgress(value=0.0, max=33.0), HTML(value='')))"
            ]
          },
          "metadata": {
            "tags": []
          }
        },
        {
          "output_type": "stream",
          "text": [
            "\n"
          ],
          "name": "stdout"
        },
        {
          "output_type": "display_data",
          "data": {
            "application/vnd.jupyter.widget-view+json": {
              "model_id": "6a736a6b0f5845cc8852cbc9d4031c8b",
              "version_minor": 0,
              "version_major": 2
            },
            "text/plain": [
              "HBox(children=(FloatProgress(value=0.0, max=42.0), HTML(value='')))"
            ]
          },
          "metadata": {
            "tags": []
          }
        },
        {
          "output_type": "stream",
          "text": [
            "\n"
          ],
          "name": "stdout"
        }
      ]
    },
    {
      "cell_type": "code",
      "metadata": {
        "colab": {
          "base_uri": "https://localhost:8080/",
          "height": 244
        },
        "id": "7eoRwC990HMC",
        "outputId": "18f27f10-aba8-41b1-abd5-0ec86c6498f0"
      },
      "source": [
        "meaningful_test_df.head()"
      ],
      "execution_count": null,
      "outputs": [
        {
          "output_type": "execute_result",
          "data": {
            "text/html": [
              "<div>\n",
              "<style scoped>\n",
              "    .dataframe tbody tr th:only-of-type {\n",
              "        vertical-align: middle;\n",
              "    }\n",
              "\n",
              "    .dataframe tbody tr th {\n",
              "        vertical-align: top;\n",
              "    }\n",
              "\n",
              "    .dataframe thead th {\n",
              "        text-align: right;\n",
              "    }\n",
              "</style>\n",
              "<table border=\"1\" class=\"dataframe\">\n",
              "  <thead>\n",
              "    <tr style=\"text-align: right;\">\n",
              "      <th></th>\n",
              "      <th>GENDER</th>\n",
              "      <th>LYMPH_COUNT</th>\n",
              "      <th>AGE</th>\n",
              "      <th>LABEL</th>\n",
              "      <th>0</th>\n",
              "      <th>1</th>\n",
              "      <th>2</th>\n",
              "      <th>3</th>\n",
              "      <th>4</th>\n",
              "      <th>5</th>\n",
              "      <th>6</th>\n",
              "      <th>7</th>\n",
              "      <th>8</th>\n",
              "      <th>9</th>\n",
              "      <th>10</th>\n",
              "      <th>11</th>\n",
              "      <th>12</th>\n",
              "      <th>13</th>\n",
              "      <th>14</th>\n",
              "      <th>15</th>\n",
              "      <th>16</th>\n",
              "      <th>17</th>\n",
              "      <th>18</th>\n",
              "      <th>19</th>\n",
              "      <th>20</th>\n",
              "      <th>21</th>\n",
              "      <th>22</th>\n",
              "      <th>23</th>\n",
              "      <th>24</th>\n",
              "      <th>25</th>\n",
              "      <th>26</th>\n",
              "      <th>27</th>\n",
              "      <th>28</th>\n",
              "      <th>29</th>\n",
              "      <th>30</th>\n",
              "      <th>31</th>\n",
              "      <th>32</th>\n",
              "      <th>33</th>\n",
              "      <th>34</th>\n",
              "      <th>35</th>\n",
              "      <th>...</th>\n",
              "      <th>60</th>\n",
              "      <th>61</th>\n",
              "      <th>62</th>\n",
              "      <th>63</th>\n",
              "      <th>64</th>\n",
              "      <th>65</th>\n",
              "      <th>66</th>\n",
              "      <th>67</th>\n",
              "      <th>68</th>\n",
              "      <th>69</th>\n",
              "      <th>70</th>\n",
              "      <th>71</th>\n",
              "      <th>72</th>\n",
              "      <th>73</th>\n",
              "      <th>74</th>\n",
              "      <th>75</th>\n",
              "      <th>76</th>\n",
              "      <th>77</th>\n",
              "      <th>78</th>\n",
              "      <th>79</th>\n",
              "      <th>80</th>\n",
              "      <th>81</th>\n",
              "      <th>82</th>\n",
              "      <th>83</th>\n",
              "      <th>84</th>\n",
              "      <th>85</th>\n",
              "      <th>86</th>\n",
              "      <th>87</th>\n",
              "      <th>88</th>\n",
              "      <th>89</th>\n",
              "      <th>90</th>\n",
              "      <th>91</th>\n",
              "      <th>92</th>\n",
              "      <th>93</th>\n",
              "      <th>94</th>\n",
              "      <th>95</th>\n",
              "      <th>96</th>\n",
              "      <th>97</th>\n",
              "      <th>98</th>\n",
              "      <th>99</th>\n",
              "    </tr>\n",
              "  </thead>\n",
              "  <tbody>\n",
              "    <tr>\n",
              "      <th>0</th>\n",
              "      <td>1</td>\n",
              "      <td>5.76</td>\n",
              "      <td>74.956879</td>\n",
              "      <td>-1</td>\n",
              "      <td>-3.232631</td>\n",
              "      <td>4.114411</td>\n",
              "      <td>-3.860815</td>\n",
              "      <td>-2.356632</td>\n",
              "      <td>-2.934089</td>\n",
              "      <td>-3.222044</td>\n",
              "      <td>-2.189068</td>\n",
              "      <td>4.177739</td>\n",
              "      <td>-2.707197</td>\n",
              "      <td>-3.386699</td>\n",
              "      <td>-2.006725</td>\n",
              "      <td>1.562009</td>\n",
              "      <td>-1.081323</td>\n",
              "      <td>-1.799070</td>\n",
              "      <td>-1.510441</td>\n",
              "      <td>-2.136618</td>\n",
              "      <td>-2.466699</td>\n",
              "      <td>2.098050</td>\n",
              "      <td>-2.392680</td>\n",
              "      <td>-2.730819</td>\n",
              "      <td>-2.983002</td>\n",
              "      <td>3.655742</td>\n",
              "      <td>-2.805019</td>\n",
              "      <td>-2.440731</td>\n",
              "      <td>-2.545987</td>\n",
              "      <td>-2.973707</td>\n",
              "      <td>-2.538907</td>\n",
              "      <td>3.263342</td>\n",
              "      <td>-3.113074</td>\n",
              "      <td>-3.791679</td>\n",
              "      <td>-2.067842</td>\n",
              "      <td>0.743334</td>\n",
              "      <td>-0.710997</td>\n",
              "      <td>-1.512123</td>\n",
              "      <td>-1.682614</td>\n",
              "      <td>-1.748492</td>\n",
              "      <td>...</td>\n",
              "      <td>-2.586806</td>\n",
              "      <td>2.686081</td>\n",
              "      <td>-1.549539</td>\n",
              "      <td>-1.053950</td>\n",
              "      <td>-1.125497</td>\n",
              "      <td>-1.816653</td>\n",
              "      <td>-1.201109</td>\n",
              "      <td>-1.981995</td>\n",
              "      <td>-2.063338</td>\n",
              "      <td>-2.112481</td>\n",
              "      <td>-3.831050</td>\n",
              "      <td>3.348287</td>\n",
              "      <td>-2.608629</td>\n",
              "      <td>-0.903755</td>\n",
              "      <td>-1.784016</td>\n",
              "      <td>-2.405854</td>\n",
              "      <td>-1.794742</td>\n",
              "      <td>0.567840</td>\n",
              "      <td>-1.673221</td>\n",
              "      <td>-3.434178</td>\n",
              "      <td>-2.768231</td>\n",
              "      <td>4.457490</td>\n",
              "      <td>-3.820585</td>\n",
              "      <td>-1.767571</td>\n",
              "      <td>-2.053886</td>\n",
              "      <td>-2.705962</td>\n",
              "      <td>-1.552582</td>\n",
              "      <td>1.208726</td>\n",
              "      <td>-1.762633</td>\n",
              "      <td>-3.091961</td>\n",
              "      <td>-3.485917</td>\n",
              "      <td>0.853322</td>\n",
              "      <td>-1.025897</td>\n",
              "      <td>-1.508633</td>\n",
              "      <td>-2.020400</td>\n",
              "      <td>-2.077531</td>\n",
              "      <td>-2.432327</td>\n",
              "      <td>4.868421</td>\n",
              "      <td>-1.904334</td>\n",
              "      <td>-3.478836</td>\n",
              "    </tr>\n",
              "    <tr>\n",
              "      <th>1</th>\n",
              "      <td>1</td>\n",
              "      <td>32.00</td>\n",
              "      <td>80.826831</td>\n",
              "      <td>-1</td>\n",
              "      <td>-3.525661</td>\n",
              "      <td>3.714803</td>\n",
              "      <td>-3.531494</td>\n",
              "      <td>-2.165663</td>\n",
              "      <td>-3.039987</td>\n",
              "      <td>-3.024284</td>\n",
              "      <td>-1.868529</td>\n",
              "      <td>3.798290</td>\n",
              "      <td>-2.937754</td>\n",
              "      <td>-2.813152</td>\n",
              "      <td>-3.953956</td>\n",
              "      <td>4.508595</td>\n",
              "      <td>-4.570174</td>\n",
              "      <td>-2.355254</td>\n",
              "      <td>-3.367125</td>\n",
              "      <td>-3.396039</td>\n",
              "      <td>-1.984760</td>\n",
              "      <td>4.372525</td>\n",
              "      <td>-2.863848</td>\n",
              "      <td>-3.040245</td>\n",
              "      <td>-1.991676</td>\n",
              "      <td>0.245843</td>\n",
              "      <td>-0.243219</td>\n",
              "      <td>-1.210678</td>\n",
              "      <td>-1.702205</td>\n",
              "      <td>-1.590280</td>\n",
              "      <td>-1.621385</td>\n",
              "      <td>1.176487</td>\n",
              "      <td>-2.305520</td>\n",
              "      <td>-2.279366</td>\n",
              "      <td>-3.470066</td>\n",
              "      <td>5.120324</td>\n",
              "      <td>-3.910287</td>\n",
              "      <td>-3.227689</td>\n",
              "      <td>-2.905571</td>\n",
              "      <td>-4.293458</td>\n",
              "      <td>...</td>\n",
              "      <td>-2.354358</td>\n",
              "      <td>0.643722</td>\n",
              "      <td>-1.060626</td>\n",
              "      <td>-1.377985</td>\n",
              "      <td>-2.247980</td>\n",
              "      <td>-1.840706</td>\n",
              "      <td>-1.792261</td>\n",
              "      <td>2.863398</td>\n",
              "      <td>-2.548880</td>\n",
              "      <td>-2.322339</td>\n",
              "      <td>-2.724779</td>\n",
              "      <td>0.962255</td>\n",
              "      <td>-1.435092</td>\n",
              "      <td>-1.817255</td>\n",
              "      <td>-2.387449</td>\n",
              "      <td>-2.202669</td>\n",
              "      <td>-1.998265</td>\n",
              "      <td>3.503217</td>\n",
              "      <td>-2.491567</td>\n",
              "      <td>-2.643270</td>\n",
              "      <td>-2.143207</td>\n",
              "      <td>-0.284461</td>\n",
              "      <td>-0.262549</td>\n",
              "      <td>-1.320047</td>\n",
              "      <td>-1.717284</td>\n",
              "      <td>-1.574432</td>\n",
              "      <td>-1.851333</td>\n",
              "      <td>2.640880</td>\n",
              "      <td>-2.069928</td>\n",
              "      <td>-2.375093</td>\n",
              "      <td>-2.812042</td>\n",
              "      <td>0.911717</td>\n",
              "      <td>-0.997550</td>\n",
              "      <td>-1.542066</td>\n",
              "      <td>-2.166903</td>\n",
              "      <td>-2.054044</td>\n",
              "      <td>-1.945664</td>\n",
              "      <td>3.657171</td>\n",
              "      <td>-2.227572</td>\n",
              "      <td>-2.887173</td>\n",
              "    </tr>\n",
              "    <tr>\n",
              "      <th>2</th>\n",
              "      <td>1</td>\n",
              "      <td>4.60</td>\n",
              "      <td>91.545517</td>\n",
              "      <td>-1</td>\n",
              "      <td>-2.937934</td>\n",
              "      <td>2.144656</td>\n",
              "      <td>-1.339232</td>\n",
              "      <td>-0.863432</td>\n",
              "      <td>-1.103598</td>\n",
              "      <td>-1.550370</td>\n",
              "      <td>-1.830397</td>\n",
              "      <td>0.784017</td>\n",
              "      <td>-1.182186</td>\n",
              "      <td>-3.664097</td>\n",
              "      <td>-2.557308</td>\n",
              "      <td>4.070535</td>\n",
              "      <td>-3.551316</td>\n",
              "      <td>-2.951570</td>\n",
              "      <td>-2.528091</td>\n",
              "      <td>-3.472911</td>\n",
              "      <td>-3.290594</td>\n",
              "      <td>6.074640</td>\n",
              "      <td>-2.522179</td>\n",
              "      <td>-4.045610</td>\n",
              "      <td>-2.673816</td>\n",
              "      <td>4.186048</td>\n",
              "      <td>-3.065244</td>\n",
              "      <td>-2.968570</td>\n",
              "      <td>-2.481261</td>\n",
              "      <td>-3.321003</td>\n",
              "      <td>-3.195766</td>\n",
              "      <td>6.242742</td>\n",
              "      <td>-2.385868</td>\n",
              "      <td>-4.190970</td>\n",
              "      <td>-2.575352</td>\n",
              "      <td>3.940217</td>\n",
              "      <td>-3.266032</td>\n",
              "      <td>-3.005141</td>\n",
              "      <td>-2.327575</td>\n",
              "      <td>-3.334145</td>\n",
              "      <td>...</td>\n",
              "      <td>-2.001638</td>\n",
              "      <td>-0.054919</td>\n",
              "      <td>0.789784</td>\n",
              "      <td>-1.546631</td>\n",
              "      <td>-1.133510</td>\n",
              "      <td>-1.233156</td>\n",
              "      <td>-2.419358</td>\n",
              "      <td>2.728128</td>\n",
              "      <td>-1.588741</td>\n",
              "      <td>-3.436379</td>\n",
              "      <td>-3.182018</td>\n",
              "      <td>5.789171</td>\n",
              "      <td>-4.394749</td>\n",
              "      <td>-1.937414</td>\n",
              "      <td>-1.799223</td>\n",
              "      <td>-2.680915</td>\n",
              "      <td>-1.647505</td>\n",
              "      <td>0.318212</td>\n",
              "      <td>-1.586832</td>\n",
              "      <td>-3.894970</td>\n",
              "      <td>-3.579996</td>\n",
              "      <td>6.064533</td>\n",
              "      <td>-4.510181</td>\n",
              "      <td>-1.714139</td>\n",
              "      <td>-2.000965</td>\n",
              "      <td>-2.619407</td>\n",
              "      <td>-1.380432</td>\n",
              "      <td>-1.318293</td>\n",
              "      <td>-2.073692</td>\n",
              "      <td>-3.395939</td>\n",
              "      <td>-3.028991</td>\n",
              "      <td>0.001447</td>\n",
              "      <td>0.095777</td>\n",
              "      <td>-2.122582</td>\n",
              "      <td>-1.677385</td>\n",
              "      <td>-2.068027</td>\n",
              "      <td>-3.287885</td>\n",
              "      <td>6.927974</td>\n",
              "      <td>-1.635494</td>\n",
              "      <td>-4.498977</td>\n",
              "    </tr>\n",
              "    <tr>\n",
              "      <th>3</th>\n",
              "      <td>1</td>\n",
              "      <td>4.80</td>\n",
              "      <td>87.162218</td>\n",
              "      <td>-1</td>\n",
              "      <td>-2.616888</td>\n",
              "      <td>3.097125</td>\n",
              "      <td>-1.495980</td>\n",
              "      <td>-2.829439</td>\n",
              "      <td>-2.465364</td>\n",
              "      <td>-3.020682</td>\n",
              "      <td>-3.165240</td>\n",
              "      <td>4.547961</td>\n",
              "      <td>-3.294095</td>\n",
              "      <td>-3.954406</td>\n",
              "      <td>-2.253884</td>\n",
              "      <td>3.338599</td>\n",
              "      <td>-2.371067</td>\n",
              "      <td>-2.487301</td>\n",
              "      <td>-1.995899</td>\n",
              "      <td>-2.858193</td>\n",
              "      <td>-2.827733</td>\n",
              "      <td>5.007930</td>\n",
              "      <td>-2.161743</td>\n",
              "      <td>-4.057601</td>\n",
              "      <td>-2.182013</td>\n",
              "      <td>1.597494</td>\n",
              "      <td>-1.688770</td>\n",
              "      <td>-1.976890</td>\n",
              "      <td>-1.513183</td>\n",
              "      <td>-2.049772</td>\n",
              "      <td>-2.697564</td>\n",
              "      <td>5.626810</td>\n",
              "      <td>-1.595891</td>\n",
              "      <td>-3.594294</td>\n",
              "      <td>-2.118534</td>\n",
              "      <td>1.035241</td>\n",
              "      <td>0.490678</td>\n",
              "      <td>-2.220688</td>\n",
              "      <td>-1.637149</td>\n",
              "      <td>-1.780527</td>\n",
              "      <td>...</td>\n",
              "      <td>-3.334466</td>\n",
              "      <td>5.668121</td>\n",
              "      <td>-4.777593</td>\n",
              "      <td>-1.700177</td>\n",
              "      <td>-2.560461</td>\n",
              "      <td>-3.167016</td>\n",
              "      <td>-1.500068</td>\n",
              "      <td>-0.520486</td>\n",
              "      <td>-2.735982</td>\n",
              "      <td>-2.716107</td>\n",
              "      <td>-4.210909</td>\n",
              "      <td>6.250349</td>\n",
              "      <td>-4.879077</td>\n",
              "      <td>-1.726178</td>\n",
              "      <td>-1.987525</td>\n",
              "      <td>-2.645079</td>\n",
              "      <td>-1.863788</td>\n",
              "      <td>-0.118458</td>\n",
              "      <td>-1.487932</td>\n",
              "      <td>-4.698980</td>\n",
              "      <td>-3.584163</td>\n",
              "      <td>6.596484</td>\n",
              "      <td>-4.477069</td>\n",
              "      <td>-2.137858</td>\n",
              "      <td>-2.441718</td>\n",
              "      <td>-3.439755</td>\n",
              "      <td>-1.593931</td>\n",
              "      <td>-1.290471</td>\n",
              "      <td>-2.939631</td>\n",
              "      <td>-3.203552</td>\n",
              "      <td>-3.691075</td>\n",
              "      <td>6.835616</td>\n",
              "      <td>-4.907052</td>\n",
              "      <td>-1.913713</td>\n",
              "      <td>-2.315335</td>\n",
              "      <td>-3.152487</td>\n",
              "      <td>-1.138382</td>\n",
              "      <td>-1.705285</td>\n",
              "      <td>-2.579690</td>\n",
              "      <td>-3.122314</td>\n",
              "    </tr>\n",
              "    <tr>\n",
              "      <th>4</th>\n",
              "      <td>0</td>\n",
              "      <td>6.24</td>\n",
              "      <td>50.636550</td>\n",
              "      <td>-1</td>\n",
              "      <td>-2.754067</td>\n",
              "      <td>1.100739</td>\n",
              "      <td>-0.614923</td>\n",
              "      <td>-1.204453</td>\n",
              "      <td>-1.170780</td>\n",
              "      <td>-1.589527</td>\n",
              "      <td>-1.999548</td>\n",
              "      <td>2.258194</td>\n",
              "      <td>-1.419234</td>\n",
              "      <td>-3.525982</td>\n",
              "      <td>-2.808070</td>\n",
              "      <td>1.099291</td>\n",
              "      <td>-0.935680</td>\n",
              "      <td>-1.046560</td>\n",
              "      <td>-1.507567</td>\n",
              "      <td>-1.689013</td>\n",
              "      <td>-2.006012</td>\n",
              "      <td>2.762761</td>\n",
              "      <td>-1.424786</td>\n",
              "      <td>-3.317911</td>\n",
              "      <td>-3.411388</td>\n",
              "      <td>2.913533</td>\n",
              "      <td>-2.390123</td>\n",
              "      <td>-1.028838</td>\n",
              "      <td>-1.634439</td>\n",
              "      <td>-2.077434</td>\n",
              "      <td>-1.766137</td>\n",
              "      <td>1.197723</td>\n",
              "      <td>-1.437972</td>\n",
              "      <td>-3.459475</td>\n",
              "      <td>-3.462095</td>\n",
              "      <td>1.615927</td>\n",
              "      <td>-1.204637</td>\n",
              "      <td>-1.273986</td>\n",
              "      <td>-1.431695</td>\n",
              "      <td>-2.037260</td>\n",
              "      <td>...</td>\n",
              "      <td>-3.148332</td>\n",
              "      <td>2.657386</td>\n",
              "      <td>-1.564679</td>\n",
              "      <td>-0.872827</td>\n",
              "      <td>-1.454772</td>\n",
              "      <td>-1.811619</td>\n",
              "      <td>-1.549355</td>\n",
              "      <td>-0.378869</td>\n",
              "      <td>-1.705155</td>\n",
              "      <td>-3.090938</td>\n",
              "      <td>-2.692792</td>\n",
              "      <td>-0.388247</td>\n",
              "      <td>0.121517</td>\n",
              "      <td>-1.109154</td>\n",
              "      <td>-1.727507</td>\n",
              "      <td>-1.668606</td>\n",
              "      <td>-2.191324</td>\n",
              "      <td>3.931437</td>\n",
              "      <td>-1.727514</td>\n",
              "      <td>-3.024975</td>\n",
              "      <td>-3.958685</td>\n",
              "      <td>3.939514</td>\n",
              "      <td>-2.443916</td>\n",
              "      <td>-0.900615</td>\n",
              "      <td>-1.144507</td>\n",
              "      <td>-2.005023</td>\n",
              "      <td>-1.542297</td>\n",
              "      <td>-1.020277</td>\n",
              "      <td>-1.322219</td>\n",
              "      <td>-3.658472</td>\n",
              "      <td>-3.345625</td>\n",
              "      <td>5.466924</td>\n",
              "      <td>-4.130762</td>\n",
              "      <td>-2.197335</td>\n",
              "      <td>-2.623203</td>\n",
              "      <td>-3.404678</td>\n",
              "      <td>-2.024976</td>\n",
              "      <td>1.444303</td>\n",
              "      <td>-3.098858</td>\n",
              "      <td>-3.421839</td>\n",
              "    </tr>\n",
              "  </tbody>\n",
              "</table>\n",
              "<p>5 rows × 104 columns</p>\n",
              "</div>"
            ],
            "text/plain": [
              "   GENDER  LYMPH_COUNT        AGE  ...        97        98        99\n",
              "0       1         5.76  74.956879  ...  4.868421 -1.904334 -3.478836\n",
              "1       1        32.00  80.826831  ...  3.657171 -2.227572 -2.887173\n",
              "2       1         4.60  91.545517  ...  6.927974 -1.635494 -4.498977\n",
              "3       1         4.80  87.162218  ... -1.705285 -2.579690 -3.122314\n",
              "4       0         6.24  50.636550  ...  1.444303 -3.098858 -3.421839\n",
              "\n",
              "[5 rows x 104 columns]"
            ]
          },
          "metadata": {
            "tags": []
          },
          "execution_count": 25
        }
      ]
    },
    {
      "cell_type": "code",
      "metadata": {
        "id": "6rpwP7CP1WDy"
      },
      "source": [
        "from xgboost import XGBClassifier"
      ],
      "execution_count": null,
      "outputs": []
    },
    {
      "cell_type": "code",
      "metadata": {
        "colab": {
          "base_uri": "https://localhost:8080/"
        },
        "id": "4KUwcepT3g6T",
        "outputId": "ddc10874-a286-43a9-ac79-309310f73ebb"
      },
      "source": [
        "X_train, y_train = meaningful_train_df.drop(columns=[\"LABEL\"]), meaningful_train_df[\"LABEL\"]\r\n",
        "X_val, y_val = meaningful_val_df.drop(columns=[\"LABEL\"]), meaningful_val_df[\"LABEL\"]\r\n",
        "X_test, y_test = meaningful_test_df.drop(columns=[\"LABEL\"]), meaningful_test_df[\"LABEL\"]\r\n",
        "clf = XGBClassifier()\r\n",
        "clf.fit(X_train, y_train)"
      ],
      "execution_count": null,
      "outputs": [
        {
          "output_type": "execute_result",
          "data": {
            "text/plain": [
              "XGBClassifier(base_score=0.5, booster='gbtree', colsample_bylevel=1,\n",
              "              colsample_bynode=1, colsample_bytree=1, gamma=0,\n",
              "              learning_rate=0.1, max_delta_step=0, max_depth=3,\n",
              "              min_child_weight=1, missing=None, n_estimators=100, n_jobs=1,\n",
              "              nthread=None, objective='binary:logistic', random_state=0,\n",
              "              reg_alpha=0, reg_lambda=1, scale_pos_weight=1, seed=None,\n",
              "              silent=None, subsample=1, verbosity=1)"
            ]
          },
          "metadata": {
            "tags": []
          },
          "execution_count": 28
        }
      ]
    },
    {
      "cell_type": "code",
      "metadata": {
        "colab": {
          "base_uri": "https://localhost:8080/"
        },
        "id": "QFsQfKwhC_e_",
        "outputId": "209ac2f1-a967-4f40-ee13-55c7c834f388"
      },
      "source": [
        "y_train_pred = clf.predict(X_train)\r\n",
        "print(classification_report(y_train, y_train_pred))"
      ],
      "execution_count": null,
      "outputs": [
        {
          "output_type": "stream",
          "text": [
            "              precision    recall  f1-score   support\n",
            "\n",
            "           0       1.00      1.00      1.00        33\n",
            "           1       1.00      1.00      1.00        97\n",
            "\n",
            "    accuracy                           1.00       130\n",
            "   macro avg       1.00      1.00      1.00       130\n",
            "weighted avg       1.00      1.00      1.00       130\n",
            "\n"
          ],
          "name": "stdout"
        }
      ]
    },
    {
      "cell_type": "code",
      "metadata": {
        "colab": {
          "base_uri": "https://localhost:8080/"
        },
        "id": "xhnvNcVn3vBi",
        "outputId": "be7481d7-9d8e-46ca-a6ca-63f9742ac7bb"
      },
      "source": [
        "y_val_pred = clf.predict(X_val)\r\n",
        "print(classification_report(y_val, y_val_pred))"
      ],
      "execution_count": null,
      "outputs": [
        {
          "output_type": "stream",
          "text": [
            "              precision    recall  f1-score   support\n",
            "\n",
            "           0       0.72      0.76      0.74        17\n",
            "           1       0.73      0.69      0.71        16\n",
            "\n",
            "    accuracy                           0.73        33\n",
            "   macro avg       0.73      0.73      0.73        33\n",
            "weighted avg       0.73      0.73      0.73        33\n",
            "\n"
          ],
          "name": "stdout"
        }
      ]
    },
    {
      "cell_type": "code",
      "metadata": {
        "id": "Ds0XpvRFrOwC"
      },
      "source": [
        "test_ids = lymphocytosis_test_dataset.test_ids"
      ],
      "execution_count": null,
      "outputs": []
    },
    {
      "cell_type": "code",
      "metadata": {
        "id": "8Ll5V7CP33Vk"
      },
      "source": [
        "y_test_pred = clf.predict(X_test)"
      ],
      "execution_count": null,
      "outputs": []
    },
    {
      "cell_type": "code",
      "metadata": {
        "colab": {
          "base_uri": "https://localhost:8080/",
          "height": 195
        },
        "id": "rSwXBW8QrFJQ",
        "outputId": "055e7758-8cd3-4974-d88c-49a29fa57223"
      },
      "source": [
        "results_test_df = pd.DataFrame({\"Id\":test_ids, \"Predicted\":y_test_pred})\r\n",
        "results_test_df.head()"
      ],
      "execution_count": null,
      "outputs": [
        {
          "output_type": "execute_result",
          "data": {
            "text/html": [
              "<div>\n",
              "<style scoped>\n",
              "    .dataframe tbody tr th:only-of-type {\n",
              "        vertical-align: middle;\n",
              "    }\n",
              "\n",
              "    .dataframe tbody tr th {\n",
              "        vertical-align: top;\n",
              "    }\n",
              "\n",
              "    .dataframe thead th {\n",
              "        text-align: right;\n",
              "    }\n",
              "</style>\n",
              "<table border=\"1\" class=\"dataframe\">\n",
              "  <thead>\n",
              "    <tr style=\"text-align: right;\">\n",
              "      <th></th>\n",
              "      <th>Id</th>\n",
              "      <th>Predicted</th>\n",
              "    </tr>\n",
              "  </thead>\n",
              "  <tbody>\n",
              "    <tr>\n",
              "      <th>0</th>\n",
              "      <td>P71</td>\n",
              "      <td>1</td>\n",
              "    </tr>\n",
              "    <tr>\n",
              "      <th>1</th>\n",
              "      <td>P16</td>\n",
              "      <td>1</td>\n",
              "    </tr>\n",
              "    <tr>\n",
              "      <th>2</th>\n",
              "      <td>P114</td>\n",
              "      <td>1</td>\n",
              "    </tr>\n",
              "    <tr>\n",
              "      <th>3</th>\n",
              "      <td>P170</td>\n",
              "      <td>1</td>\n",
              "    </tr>\n",
              "    <tr>\n",
              "      <th>4</th>\n",
              "      <td>P98</td>\n",
              "      <td>0</td>\n",
              "    </tr>\n",
              "  </tbody>\n",
              "</table>\n",
              "</div>"
            ],
            "text/plain": [
              "     Id  Predicted\n",
              "0   P71          1\n",
              "1   P16          1\n",
              "2  P114          1\n",
              "3  P170          1\n",
              "4   P98          0"
            ]
          },
          "metadata": {
            "tags": []
          },
          "execution_count": 37
        }
      ]
    },
    {
      "cell_type": "code",
      "metadata": {
        "id": "Uuz6UullryBS"
      },
      "source": [
        "results_test_df.to_csv(\"submission.csv\", index=False)"
      ],
      "execution_count": null,
      "outputs": []
    },
    {
      "cell_type": "code",
      "metadata": {
        "id": "nW9fltngsIIa"
      },
      "source": [
        ""
      ],
      "execution_count": null,
      "outputs": []
    }
  ]
}